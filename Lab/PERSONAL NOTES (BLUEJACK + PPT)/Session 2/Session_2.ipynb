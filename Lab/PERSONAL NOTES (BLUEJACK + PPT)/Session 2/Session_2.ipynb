{
  "nbformat": 4,
  "nbformat_minor": 0,
  "metadata": {
    "colab": {
      "provenance": []
    },
    "kernelspec": {
      "name": "python3",
      "display_name": "Python 3"
    },
    "language_info": {
      "name": "python"
    }
  },
  "cells": [
    {
      "cell_type": "markdown",
      "source": [
        "GC Contents in DNA\n",
        "- GC-content (or guanine-cytosine content) is the percentage of nitrogenous bases in a DNA or RNA molecule that are either Guanine (G) or Cytosine (C).\n",
        "\n",
        "<!-- end of list -->\n",
        "\n",
        "A=T, G=C\n",
        "\n",
        "Usefulness\n",
        "- In polymerase chain reaction (PCR) experiments, the GC-content of short oligonucleotides known as primers is often used to predict their annealing temperature to the template DNA.\n",
        "- A higher GC-content level indicates a relatively higher melting temperature\n",
        "- DNA with low GC-content is less stable than DNA with high GC-content\n",
        "- High GC content DNA can make it difficult to perform PCR amplification due to difficulty in designing a primer long enough to provide great specifity"
      ],
      "metadata": {
        "id": "K64ot9-q1NC_"
      }
    },
    {
      "cell_type": "code",
      "source": [
        "!pip install BioPython\n",
        "\n",
        "import Bio\n",
        "from Bio.Seq import Seq\n",
        "from Bio.SeqUtils import GC"
      ],
      "metadata": {
        "colab": {
          "base_uri": "https://localhost:8080/"
        },
        "id": "A9oH6IIQ28tA",
        "outputId": "ebc36a60-6930-40ec-8689-0f521655bcf9"
      },
      "execution_count": 1,
      "outputs": [
        {
          "output_type": "stream",
          "name": "stdout",
          "text": [
            "Looking in indexes: https://pypi.org/simple, https://us-python.pkg.dev/colab-wheels/public/simple/\n",
            "Collecting BioPython\n",
            "  Downloading biopython-1.81-cp38-cp38-manylinux_2_17_x86_64.manylinux2014_x86_64.whl (3.1 MB)\n",
            "\u001b[2K     \u001b[90m━━━━━━━━━━━━━━━━━━━━━━━━━━━━━━━━━━━━━━━━\u001b[0m \u001b[32m3.1/3.1 MB\u001b[0m \u001b[31m20.0 MB/s\u001b[0m eta \u001b[36m0:00:00\u001b[0m\n",
            "\u001b[?25hRequirement already satisfied: numpy in /usr/local/lib/python3.8/dist-packages (from BioPython) (1.22.4)\n",
            "Installing collected packages: BioPython\n",
            "Successfully installed BioPython-1.81\n"
          ]
        }
      ]
    },
    {
      "cell_type": "markdown",
      "source": [
        "Method 1"
      ],
      "metadata": {
        "id": "ipiGPfp93_xo"
      }
    },
    {
      "cell_type": "code",
      "source": [
        "dna_seq = Seq('ATGATCTCGTAA')\n",
        "dna_seq"
      ],
      "metadata": {
        "colab": {
          "base_uri": "https://localhost:8080/"
        },
        "id": "r2IVQxV83wif",
        "outputId": "4844cf4a-abd1-41ce-f219-9db8640abe9e"
      },
      "execution_count": 2,
      "outputs": [
        {
          "output_type": "execute_result",
          "data": {
            "text/plain": [
              "Seq('ATGATCTCGTAA')"
            ]
          },
          "metadata": {},
          "execution_count": 2
        }
      ]
    },
    {
      "cell_type": "code",
      "source": [
        "GC(dna_seq)"
      ],
      "metadata": {
        "colab": {
          "base_uri": "https://localhost:8080/"
        },
        "id": "T6o8FO2c30vt",
        "outputId": "1a3d85f8-0b2c-40b1-e9ef-64ca6b97ce7a"
      },
      "execution_count": 3,
      "outputs": [
        {
          "output_type": "stream",
          "name": "stderr",
          "text": [
            "/usr/local/lib/python3.8/dist-packages/Bio/SeqUtils/__init__.py:144: BiopythonDeprecationWarning: GC is deprecated; please use gc_fraction instead.\n",
            "  warnings.warn(\n"
          ]
        },
        {
          "output_type": "execute_result",
          "data": {
            "text/plain": [
              "33.333333333333336"
            ]
          },
          "metadata": {},
          "execution_count": 3
        }
      ]
    },
    {
      "cell_type": "markdown",
      "source": [
        "Method 2 \\\n",
        "Custom Function to Get GC Count"
      ],
      "metadata": {
        "id": "oSy3V0JL4DNf"
      }
    },
    {
      "cell_type": "code",
      "source": [
        "dna_seq = Seq('ATGATCTCGTAA')\n",
        "dna_seq"
      ],
      "metadata": {
        "colab": {
          "base_uri": "https://localhost:8080/"
        },
        "id": "JT-DfbFV4IHg",
        "outputId": "22706d7b-f640-4e66-a3f0-3866464c7076"
      },
      "execution_count": 4,
      "outputs": [
        {
          "output_type": "execute_result",
          "data": {
            "text/plain": [
              "Seq('ATGATCTCGTAA')"
            ]
          },
          "metadata": {},
          "execution_count": 4
        }
      ]
    },
    {
      "cell_type": "code",
      "source": [
        "dna_seq.count('A')"
      ],
      "metadata": {
        "colab": {
          "base_uri": "https://localhost:8080/"
        },
        "id": "FMlhs6QF39ZF",
        "outputId": "37a9a27f-93ba-4348-9aed-34dbde46ed20"
      },
      "execution_count": 5,
      "outputs": [
        {
          "output_type": "execute_result",
          "data": {
            "text/plain": [
              "4"
            ]
          },
          "metadata": {},
          "execution_count": 5
        }
      ]
    },
    {
      "cell_type": "code",
      "source": [
        "def gc_content(seq):\n",
        "  result = float(seq.count('G') + seq.count('C')) / len(seq) * 100\n",
        "  return result"
      ],
      "metadata": {
        "id": "gmcmuSoV4Ioc"
      },
      "execution_count": 6,
      "outputs": []
    },
    {
      "cell_type": "code",
      "source": [
        "gc_content(dna_seq)"
      ],
      "metadata": {
        "colab": {
          "base_uri": "https://localhost:8080/"
        },
        "id": "Q5jQC4Wm4WUF",
        "outputId": "caf90945-d435-4ef3-eb8f-636763827127"
      },
      "execution_count": 7,
      "outputs": [
        {
          "output_type": "execute_result",
          "data": {
            "text/plain": [
              "33.33333333333333"
            ]
          },
          "metadata": {},
          "execution_count": 7
        }
      ]
    },
    {
      "cell_type": "markdown",
      "source": [
        "Method 3"
      ],
      "metadata": {
        "id": "1u6tgpI01OMG"
      }
    },
    {
      "cell_type": "code",
      "source": [
        "def gc_content2(seq):\n",
        "  gc = [B for B in seq.upper() if B in 'GC']\n",
        "  result = float(len(gc)) / len(seq) * 100\n",
        "  return result"
      ],
      "metadata": {
        "id": "jakdDnQv43X_"
      },
      "execution_count": 8,
      "outputs": []
    },
    {
      "cell_type": "code",
      "source": [
        "gc_content2(dna_seq)"
      ],
      "metadata": {
        "colab": {
          "base_uri": "https://localhost:8080/"
        },
        "id": "8-7EzZp25LsS",
        "outputId": "bec6fbda-3836-45b2-8a7f-b713295d5380"
      },
      "execution_count": 9,
      "outputs": [
        {
          "output_type": "execute_result",
          "data": {
            "text/plain": [
              "33.33333333333333"
            ]
          },
          "metadata": {},
          "execution_count": 9
        }
      ]
    },
    {
      "cell_type": "code",
      "source": [
        "dna_seq.lower()"
      ],
      "metadata": {
        "colab": {
          "base_uri": "https://localhost:8080/"
        },
        "id": "FnlAmVgp5OaZ",
        "outputId": "777f8593-25bc-42e3-92c9-d6a39a9cbcb8"
      },
      "execution_count": 10,
      "outputs": [
        {
          "output_type": "execute_result",
          "data": {
            "text/plain": [
              "Seq('atgatctcgtaa')"
            ]
          },
          "metadata": {},
          "execution_count": 10
        }
      ]
    },
    {
      "cell_type": "code",
      "source": [
        "gc_content2('atgatctcgtaa')"
      ],
      "metadata": {
        "colab": {
          "base_uri": "https://localhost:8080/"
        },
        "id": "nnVTH14p5QgV",
        "outputId": "addae961-0e57-433f-add0-46f6890855b1"
      },
      "execution_count": 11,
      "outputs": [
        {
          "output_type": "execute_result",
          "data": {
            "text/plain": [
              "33.33333333333333"
            ]
          },
          "metadata": {},
          "execution_count": 11
        }
      ]
    },
    {
      "cell_type": "code",
      "source": [
        "GC('atgatctcgtaa')"
      ],
      "metadata": {
        "colab": {
          "base_uri": "https://localhost:8080/"
        },
        "id": "gjFpDJkq5Tkg",
        "outputId": "a0b07bcc-775e-4598-fa2e-346447650a98"
      },
      "execution_count": 12,
      "outputs": [
        {
          "output_type": "execute_result",
          "data": {
            "text/plain": [
              "33.333333333333336"
            ]
          },
          "metadata": {},
          "execution_count": 12
        }
      ]
    },
    {
      "cell_type": "markdown",
      "source": [
        "Melting Point of DNA\n",
        "- Higher GC means high melting point.\n",
        "- Tm_Wallace: 'Rule of thumb'.\n",
        "- Tm_GC: Empirical formulas based on GC content. Salt and mismatch corrections can be included.\n",
        "- Tm_NN: Calculation based on nearest neighbor thermodynamics. Several tables for DNA/DNA, DNA/RNA, and RNA/RNA hybridizations are included. Correction for mismatches, dangling ends, salt concentration, and other additives are available."
      ],
      "metadata": {
        "id": "WfeZ1t2v1Obt"
      }
    },
    {
      "cell_type": "code",
      "execution_count": 13,
      "metadata": {
        "id": "-UIMCEUf0-Ok"
      },
      "outputs": [],
      "source": [
        "import Bio.SeqUtils"
      ]
    },
    {
      "cell_type": "code",
      "source": [
        "dir(Bio.SeqUtils)"
      ],
      "metadata": {
        "colab": {
          "base_uri": "https://localhost:8080/"
        },
        "id": "Qa3HHJgz6lR0",
        "outputId": "69da95e4-ef5c-4124-ad2b-05fb42bc8283"
      },
      "execution_count": 14,
      "outputs": [
        {
          "output_type": "execute_result",
          "data": {
            "text/plain": [
              "['BiopythonDeprecationWarning',\n",
              " 'CodonAdaptationIndex',\n",
              " 'GC',\n",
              " 'GC123',\n",
              " 'GC_skew',\n",
              " 'IUPACData',\n",
              " 'Seq',\n",
              " '__builtins__',\n",
              " '__cached__',\n",
              " '__doc__',\n",
              " '__file__',\n",
              " '__loader__',\n",
              " '__name__',\n",
              " '__package__',\n",
              " '__path__',\n",
              " '__spec__',\n",
              " '__warningregistry__',\n",
              " '_gc_values',\n",
              " 'complement',\n",
              " 'complement_rna',\n",
              " 'cos',\n",
              " 'exp',\n",
              " 'gc_fraction',\n",
              " 'log',\n",
              " 'molecular_weight',\n",
              " 'nt_search',\n",
              " 'pi',\n",
              " 're',\n",
              " 'seq1',\n",
              " 'seq3',\n",
              " 'sin',\n",
              " 'six_frame_translations',\n",
              " 'standard_dna_table',\n",
              " 'warnings',\n",
              " 'xGC_skew']"
            ]
          },
          "metadata": {},
          "execution_count": 14
        }
      ]
    },
    {
      "cell_type": "code",
      "source": [
        "from Bio.SeqUtils import MeltingTemp as mt"
      ],
      "metadata": {
        "id": "f3mfojyG6o6D"
      },
      "execution_count": 15,
      "outputs": []
    },
    {
      "cell_type": "code",
      "source": [
        "dna_seq"
      ],
      "metadata": {
        "colab": {
          "base_uri": "https://localhost:8080/"
        },
        "id": "K_0z50xS6sWV",
        "outputId": "a48bcd4e-d40a-444f-d53a-565780473a56"
      },
      "execution_count": 16,
      "outputs": [
        {
          "output_type": "execute_result",
          "data": {
            "text/plain": [
              "Seq('ATGATCTCGTAA')"
            ]
          },
          "metadata": {},
          "execution_count": 16
        }
      ]
    },
    {
      "cell_type": "code",
      "source": [
        "GC(dna_seq)"
      ],
      "metadata": {
        "colab": {
          "base_uri": "https://localhost:8080/"
        },
        "id": "VhkzMSHt6uYB",
        "outputId": "9aef11b3-413a-4b0d-df12-11bef4bc615c"
      },
      "execution_count": 17,
      "outputs": [
        {
          "output_type": "execute_result",
          "data": {
            "text/plain": [
              "33.333333333333336"
            ]
          },
          "metadata": {},
          "execution_count": 17
        }
      ]
    },
    {
      "cell_type": "code",
      "source": [
        "# check for the melting point using wallace\n",
        "mt.Tm_Wallace(dna_seq)"
      ],
      "metadata": {
        "colab": {
          "base_uri": "https://localhost:8080/"
        },
        "id": "HH4MAj8V6wD4",
        "outputId": "83071681-9259-4919-a2eb-89a16a56e9d3"
      },
      "execution_count": 18,
      "outputs": [
        {
          "output_type": "execute_result",
          "data": {
            "text/plain": [
              "32.0"
            ]
          },
          "metadata": {},
          "execution_count": 18
        }
      ]
    },
    {
      "cell_type": "code",
      "source": [
        "# check for the melting point using GC content\n",
        "mt.Tm_GC(dna_seq)"
      ],
      "metadata": {
        "colab": {
          "base_uri": "https://localhost:8080/"
        },
        "id": "21bD71Ns61K-",
        "outputId": "3f4f673a-9fb4-424b-9e93-e84c5a7e9cb8"
      },
      "execution_count": 19,
      "outputs": [
        {
          "output_type": "execute_result",
          "data": {
            "text/plain": [
              "23.569568738644566"
            ]
          },
          "metadata": {},
          "execution_count": 19
        }
      ]
    },
    {
      "cell_type": "markdown",
      "source": [
        "Check for the Nucleotide Molecular Weight\n",
        "- ProtParam.ProteinAnalysis\n",
        "- Counter from collections"
      ],
      "metadata": {
        "id": "cFT3UVWv5dhu"
      }
    },
    {
      "cell_type": "code",
      "source": [
        "from Bio.Seq import Seq\n",
        "from Bio.SeqUtils import molecular_weight"
      ],
      "metadata": {
        "id": "egyfFOHZ5zEI"
      },
      "execution_count": 20,
      "outputs": []
    },
    {
      "cell_type": "code",
      "source": [
        "dna = Seq('ATGATCTCGTAA')"
      ],
      "metadata": {
        "id": "0tSibtDY5z7-"
      },
      "execution_count": 21,
      "outputs": []
    },
    {
      "cell_type": "code",
      "source": [
        "# Molecular weight of DNA nucleotide\n",
        "molecular_weight(dna)"
      ],
      "metadata": {
        "colab": {
          "base_uri": "https://localhost:8080/"
        },
        "id": "13hm_xYm52uz",
        "outputId": "cb862529-f801-4de3-ee31-8ad7a592592b"
      },
      "execution_count": 22,
      "outputs": [
        {
          "output_type": "execute_result",
          "data": {
            "text/plain": [
              "3724.3894999999998"
            ]
          },
          "metadata": {},
          "execution_count": 22
        }
      ]
    },
    {
      "cell_type": "markdown",
      "source": [
        "Exercise"
      ],
      "metadata": {
        "id": "KzqLRHhI5rDd"
      }
    },
    {
      "cell_type": "code",
      "source": [
        "!pip install BioPython\n",
        "\n",
        "import Bio\n",
        "from Bio.Seq import Seq"
      ],
      "metadata": {
        "colab": {
          "base_uri": "https://localhost:8080/"
        },
        "id": "aUFloN8-7q2j",
        "outputId": "98090de6-9696-4ddb-bcad-f18c1e230a29"
      },
      "execution_count": 23,
      "outputs": [
        {
          "output_type": "stream",
          "name": "stdout",
          "text": [
            "Looking in indexes: https://pypi.org/simple, https://us-python.pkg.dev/colab-wheels/public/simple/\n",
            "Requirement already satisfied: BioPython in /usr/local/lib/python3.8/dist-packages (1.81)\n",
            "Requirement already satisfied: numpy in /usr/local/lib/python3.8/dist-packages (from BioPython) (1.22.4)\n"
          ]
        }
      ]
    },
    {
      "cell_type": "code",
      "source": [
        "sequence1 = Seq('ATGCATGGTGCGCGA')\n",
        "sequence2 = Seq('ATTTGTGCTCCTGGA')"
      ],
      "metadata": {
        "id": "1CJ_2o0Q9Qlq"
      },
      "execution_count": 24,
      "outputs": []
    },
    {
      "cell_type": "code",
      "source": [
        "from Bio.SeqUtils import GC\n",
        "\n",
        "print(\"GC sequence1 =\", GC(sequence1))\n",
        "print(\"GC sequence2 =\", GC(sequence2))\n",
        "\n",
        "print(\"The sequence that has the highest GC is\", \"sequence1\" if GC(sequence1) > GC(sequence2) else \"sequence2\")"
      ],
      "metadata": {
        "colab": {
          "base_uri": "https://localhost:8080/"
        },
        "id": "WmM4I3rO7HEP",
        "outputId": "ad26858e-7387-440a-b5b6-44754fdfa495"
      },
      "execution_count": 25,
      "outputs": [
        {
          "output_type": "stream",
          "name": "stdout",
          "text": [
            "GC sequence1 = 60.0\n",
            "GC sequence2 = 46.666666666666664\n",
            "The sequence that has the highest GC is sequence1\n"
          ]
        }
      ]
    },
    {
      "cell_type": "code",
      "source": [
        "import Bio.SeqUtils\n",
        "from Bio.SeqUtils import MeltingTemp as mt\n",
        "\n",
        "print(mt.Tm_Wallace(sequence1))\n",
        "print(mt.Tm_GC(sequence1))\n",
        "print(mt.Tm_NN(sequence1))\n",
        "print()\n",
        "print(mt.Tm_Wallace(sequence2))\n",
        "print(mt.Tm_GC(sequence2))\n",
        "print(mt.Tm_NN(sequence2))\n",
        "print()\n",
        "print(\"The sequence that has the higher melting temperature is\",\n",
        "      \"sequence1\" if mt.Tm_Wallace(sequence1) > mt.Tm_Wallace(sequence2)\n",
        "      else \"sequence2\")"
      ],
      "metadata": {
        "colab": {
          "base_uri": "https://localhost:8080/"
        },
        "id": "LHuR2i5-89Md",
        "outputId": "54af970d-f618-42b5-d5d7-d65760b8fca5"
      },
      "execution_count": 26,
      "outputs": [
        {
          "output_type": "stream",
          "name": "stdout",
          "text": [
            "48.0\n",
            "44.5029020719779\n",
            "51.018959639430136\n",
            "\n",
            "44.0\n",
            "39.03623540531123\n",
            "42.05858302814346\n",
            "\n",
            "The sequence that has the higher melting temperature is sequence1\n"
          ]
        }
      ]
    },
    {
      "cell_type": "code",
      "source": [
        "from Bio.Seq import Seq\n",
        "from Bio.SeqUtils import molecular_weight\n",
        "\n",
        "print(molecular_weight(sequence1))\n",
        "print(molecular_weight(sequence2))\n",
        "print()\n",
        "print(\"The sequence that has the highest molecular weight is\", \n",
        "      \"sequence1\" if molecular_weight(sequence1) > molecular_weight(sequence2)\n",
        "      else \"sequence2\")"
      ],
      "metadata": {
        "colab": {
          "base_uri": "https://localhost:8080/"
        },
        "id": "hqL8BLNp-Epp",
        "outputId": "4a2d7eb8-82c6-486f-f4fb-82fed35d7479"
      },
      "execution_count": 27,
      "outputs": [
        {
          "output_type": "stream",
          "name": "stdout",
          "text": [
            "4712.995199999999\n",
            "4653.9565\n",
            "\n",
            "The sequence that has the highest molecular weight is sequence1\n"
          ]
        }
      ]
    },
    {
      "cell_type": "markdown",
      "source": [
        "BLUEJACK CASE"
      ],
      "metadata": {
        "id": "VScdnaZSPsaq"
      }
    },
    {
      "cell_type": "code",
      "source": [
        "!pip install BioPython"
      ],
      "metadata": {
        "colab": {
          "base_uri": "https://localhost:8080/"
        },
        "id": "G1ArgU2DPuDF",
        "outputId": "8ea1ed44-df1d-460c-d86a-594a1b78da17"
      },
      "execution_count": null,
      "outputs": [
        {
          "output_type": "stream",
          "name": "stdout",
          "text": [
            "Looking in indexes: https://pypi.org/simple, https://us-python.pkg.dev/colab-wheels/public/simple/\n",
            "Requirement already satisfied: BioPython in /usr/local/lib/python3.8/dist-packages (1.81)\n",
            "Requirement already satisfied: numpy in /usr/local/lib/python3.8/dist-packages (from BioPython) (1.22.4)\n"
          ]
        }
      ]
    },
    {
      "cell_type": "code",
      "source": [
        "import Bio\n",
        "import matplotlib.pyplot as plt\n",
        "\n",
        "from Bio.Seq import Seq\n",
        "from Bio.SeqUtils import molecular_weight\n",
        "from Bio.SeqUtils import MeltingTemp as mt\n",
        "from Bio.SeqUtils import GC"
      ],
      "metadata": {
        "id": "7khoRuuXP2n5"
      },
      "execution_count": null,
      "outputs": []
    },
    {
      "cell_type": "code",
      "source": [
        "seqA = Seq('AGCTTGCAGCGTCCGTTAGCTCGAGTCCAGGACGTTAGTCCTGCAGTC')\n",
        "seqB = Seq('CAGTAAGTTGCCGTTAGCGCGTAGTGCCAGTAAGCGGCTCGTTAGTGG')\n",
        "\n",
        "print(\"Sequence A:\", seqA)\n",
        "print(\"Sequence B:\", seqB)"
      ],
      "metadata": {
        "id": "HDcmTnbnQbk8"
      },
      "execution_count": null,
      "outputs": []
    },
    {
      "cell_type": "code",
      "source": [
        "print(molecular_weight(seqA))\n",
        "print(molecular_weight(seqB))"
      ],
      "metadata": {
        "id": "JT2cWzWGQoWg"
      },
      "execution_count": null,
      "outputs": []
    },
    {
      "cell_type": "code",
      "source": [
        "print(mt.Tm_Wallace(seqA))\n",
        "print(mt.Tm_Wallace(seqB))"
      ],
      "metadata": {
        "id": "-K1fQt_hQtPP"
      },
      "execution_count": null,
      "outputs": []
    },
    {
      "cell_type": "code",
      "source": [
        "plt.bar(['SeqA', 'SeqB'], [mt.Tm_Wallace(seqA), mt.Tm_Wallace(seqB)])\n",
        "plt.ylim([120, 160])\n",
        "plt.xlabel('DNA Sequence')\n",
        "plt.ylabel('Melting Temp')\n",
        "plt.show()"
      ],
      "metadata": {
        "id": "Ryx7NJyVU_9g"
      },
      "execution_count": null,
      "outputs": []
    },
    {
      "cell_type": "code",
      "source": [
        "def gc_content(seq):\n",
        "  gc = [B for B in seq.upper() if B in 'GC']\n",
        "  result = float(len(gc)) / len(seq) * 100\n",
        "  return result\n",
        "\n",
        "print(gc_content(seqA))\n",
        "print(gc_content(seqB))"
      ],
      "metadata": {
        "id": "1MvJi-glUDSN"
      },
      "execution_count": null,
      "outputs": []
    },
    {
      "cell_type": "code",
      "source": [
        "def at_content(seq):\n",
        "  at = [B for B in seq.upper() if B in 'AT']\n",
        "  result = float(len(at)) / len(seq) * 100\n",
        "  return result\n",
        "\n",
        "print(at_content(seqA))\n",
        "print(at_content(seqB))"
      ],
      "metadata": {
        "id": "eyCPiPhuUHew"
      },
      "execution_count": null,
      "outputs": []
    },
    {
      "cell_type": "code",
      "source": [
        "plt.bar(['SeqA', 'SeqB'], [gc_content(seqA), gc_content(seqB)])\n",
        "plt.bar(['SeqA', 'SeqB'], [at_content(seqA), at_content(seqB)])\n",
        "plt.legend(['GC Content', 'AT Content'])\n",
        "plt.xlabel('DNA Sequence')\n",
        "plt.ylabel('Percentage')\n",
        "plt.ylim(35, 60)\n",
        "plt.show()"
      ],
      "metadata": {
        "id": "IHWL_x7NU6X5"
      },
      "execution_count": null,
      "outputs": []
    }
  ]
}