{
  "nbformat": 4,
  "nbformat_minor": 0,
  "metadata": {
    "colab": {
      "provenance": []
    },
    "kernelspec": {
      "name": "python3",
      "display_name": "Python 3"
    },
    "language_info": {
      "name": "python"
    }
  },
  "cells": [
    {
      "cell_type": "markdown",
      "source": [
        "**Global and Local Alignment**\n",
        "\n",
        "Sequence alignment is a method of arranging sequences of DNA, RNA, or Amino Acids or proteins to identify regions of similarity. \\\n",
        "\\\n",
        "Similarity: Degree of likeness between two sequences, usually expressed as a percentage of similar (or identical) residues over a given length of the alignment. Can usually be easily calculated. \\\n",
        "\\\n",
        "Homology: Statement about common evolutionary ancestry of two sequences. Can only be true or false. We can rarely be certain about this, it is therefore usually a hypothesis that may be more or less probable. \\\n",
        "\\\n",
        "A high degree if similarity implies a high probability of homology"
      ],
      "metadata": {
        "id": "uA-QWveScA7C"
      }
    },
    {
      "cell_type": "code",
      "source": [
        "!pip install biopython"
      ],
      "metadata": {
        "colab": {
          "base_uri": "https://localhost:8080/"
        },
        "id": "pVMA3wW_cXnY",
        "outputId": "c3ee02f3-8a73-4d91-96c8-e2ef863ed14b"
      },
      "execution_count": 1,
      "outputs": [
        {
          "output_type": "stream",
          "name": "stdout",
          "text": [
            "Looking in indexes: https://pypi.org/simple, https://us-python.pkg.dev/colab-wheels/public/simple/\n",
            "Collecting biopython\n",
            "  Downloading biopython-1.81-cp38-cp38-manylinux_2_17_x86_64.manylinux2014_x86_64.whl (3.1 MB)\n",
            "\u001b[2K     \u001b[90m━━━━━━━━━━━━━━━━━━━━━━━━━━━━━━━━━━━━━━━━\u001b[0m \u001b[32m3.1/3.1 MB\u001b[0m \u001b[31m24.6 MB/s\u001b[0m eta \u001b[36m0:00:00\u001b[0m\n",
            "\u001b[?25hRequirement already satisfied: numpy in /usr/local/lib/python3.8/dist-packages (from biopython) (1.22.4)\n",
            "Installing collected packages: biopython\n",
            "Successfully installed biopython-1.81\n"
          ]
        }
      ]
    },
    {
      "cell_type": "code",
      "execution_count": 2,
      "metadata": {
        "colab": {
          "base_uri": "https://localhost:8080/"
        },
        "id": "RNl2fWW9_y0J",
        "outputId": "7a844c7a-34bf-438e-840a-97321dcf65a6"
      },
      "outputs": [
        {
          "output_type": "stream",
          "name": "stderr",
          "text": [
            "/usr/local/lib/python3.8/dist-packages/Bio/pairwise2.py:278: BiopythonDeprecationWarning: Bio.pairwise2 has been deprecated, and we intend to remove it in a future release of Biopython. As an alternative, please consider using Bio.Align.PairwiseAligner as a replacement, and contact the Biopython developers if you still need the Bio.pairwise2 module.\n",
            "  warnings.warn(\n"
          ]
        }
      ],
      "source": [
        "import Bio\n",
        "from Bio import pairwise2\n",
        "from Bio.pairwise2 import format_alignment\n",
        "from Bio.Seq import Seq"
      ]
    },
    {
      "cell_type": "code",
      "source": [
        "seq1 = Seq('ACTCGT')\n",
        "seq2 = Seq('ATTCG')"
      ],
      "metadata": {
        "id": "hQ7PHOh0cgbv"
      },
      "execution_count": 3,
      "outputs": []
    },
    {
      "cell_type": "code",
      "source": [
        "# Global Alignment\n",
        "alignments = pairwise2.align.globalxx(seq1, seq2)"
      ],
      "metadata": {
        "id": "d1Zrp1V2cmXh"
      },
      "execution_count": 4,
      "outputs": []
    },
    {
      "cell_type": "code",
      "source": [
        "alignments"
      ],
      "metadata": {
        "colab": {
          "base_uri": "https://localhost:8080/"
        },
        "id": "hxYrgZmRcsdL",
        "outputId": "43eb4d0b-967f-472e-9542-78105e48044d"
      },
      "execution_count": 5,
      "outputs": [
        {
          "output_type": "execute_result",
          "data": {
            "text/plain": [
              "[Alignment(seqA='ACT-CGT', seqB='A-TTCG-', score=4.0, start=0, end=7),\n",
              " Alignment(seqA='AC-TCGT', seqB='A-TTCG-', score=4.0, start=0, end=7),\n",
              " Alignment(seqA='ACTCGT', seqB='ATTCG-', score=4.0, start=0, end=6)]"
            ]
          },
          "metadata": {},
          "execution_count": 5
        }
      ]
    },
    {
      "cell_type": "code",
      "source": [
        "# To display the alignment\n",
        "print(format_alignment(*alignments[0]))"
      ],
      "metadata": {
        "colab": {
          "base_uri": "https://localhost:8080/"
        },
        "id": "4z-sXQfDct6F",
        "outputId": "9891e238-3504-46b5-9bbe-910e2267a6a5"
      },
      "execution_count": 6,
      "outputs": [
        {
          "output_type": "stream",
          "name": "stdout",
          "text": [
            "ACT-CGT\n",
            "| | || \n",
            "A-TTCG-\n",
            "  Score=4\n",
            "\n"
          ]
        }
      ]
    },
    {
      "cell_type": "code",
      "source": [
        "# View all\n",
        "for a in alignments:\n",
        "  print(format_alignment(*a))"
      ],
      "metadata": {
        "colab": {
          "base_uri": "https://localhost:8080/"
        },
        "id": "I3nFs3ytc1VC",
        "outputId": "04011557-887e-4ba0-b1cc-dced9c9ce3a3"
      },
      "execution_count": 7,
      "outputs": [
        {
          "output_type": "stream",
          "name": "stdout",
          "text": [
            "ACT-CGT\n",
            "| | || \n",
            "A-TTCG-\n",
            "  Score=4\n",
            "\n",
            "AC-TCGT\n",
            "|  ||| \n",
            "A-TTCG-\n",
            "  Score=4\n",
            "\n",
            "ACTCGT\n",
            "|.||| \n",
            "ATTCG-\n",
            "  Score=4\n",
            "\n"
          ]
        }
      ]
    },
    {
      "cell_type": "markdown",
      "source": [
        "When to use local alignment \n",
        "1. 2 sequences have a small matched region \n",
        "2. 2 Sequences are of different lengths\n",
        "3. Overlapping sequences \n",
        "4. One sequences is a subsequences of the other"
      ],
      "metadata": {
        "id": "M-2rgS-PdIFf"
      }
    },
    {
      "cell_type": "code",
      "source": [
        "# Local alignment\n",
        "loc_alignments = pairwise2.align.localxx(seq1, seq2)"
      ],
      "metadata": {
        "id": "E4oDQLNgdFmR"
      },
      "execution_count": 8,
      "outputs": []
    },
    {
      "cell_type": "code",
      "source": [
        "# View all\n",
        "for a in loc_alignments:\n",
        "  print(format_alignment(*a))"
      ],
      "metadata": {
        "colab": {
          "base_uri": "https://localhost:8080/"
        },
        "id": "m6vKqF27djuE",
        "outputId": "0430451c-934d-4094-868f-0bfdfac2dc95"
      },
      "execution_count": 9,
      "outputs": [
        {
          "output_type": "stream",
          "name": "stdout",
          "text": [
            "1 ACT-CG\n",
            "  | | ||\n",
            "1 A-TTCG\n",
            "  Score=4\n",
            "\n",
            "1 AC-TCG\n",
            "  |  |||\n",
            "1 A-TTCG\n",
            "  Score=4\n",
            "\n",
            "1 ACTCG\n",
            "  |.|||\n",
            "1 ATTCG\n",
            "  Score=4\n",
            "\n"
          ]
        }
      ]
    },
    {
      "cell_type": "code",
      "source": [
        "# Get the alignment by only the score\n",
        "alignment2 = pairwise2.align.globalxx(seq1, seq2, one_alignment_only = True, score_only = True)"
      ],
      "metadata": {
        "id": "8DRGM8P-droR"
      },
      "execution_count": 10,
      "outputs": []
    },
    {
      "cell_type": "code",
      "source": [
        "alignment2"
      ],
      "metadata": {
        "colab": {
          "base_uri": "https://localhost:8080/"
        },
        "id": "cdg5HRZMd19C",
        "outputId": "cce8fbd3-8f29-47ee-a4e6-55f6b39e3f77"
      },
      "execution_count": 11,
      "outputs": [
        {
          "output_type": "execute_result",
          "data": {
            "text/plain": [
              "4.0"
            ]
          },
          "metadata": {},
          "execution_count": 11
        }
      ]
    },
    {
      "cell_type": "markdown",
      "source": [
        "**Similarity Analysis**\n",
        "\n",
        "Check for similarity or percentage of similarity using Alignment \\\n",
        "\\\n",
        "(fraction of nucleotides that is the same) / (total number of nucleotides) * 100%"
      ],
      "metadata": {
        "id": "VqZNWA7Bd4zI"
      }
    },
    {
      "cell_type": "code",
      "source": [
        "seq1"
      ],
      "metadata": {
        "colab": {
          "base_uri": "https://localhost:8080/"
        },
        "id": "ZN9pT2Rdd3nr",
        "outputId": "c5fa18f4-18ab-4286-9738-ebe9b8624e98"
      },
      "execution_count": 12,
      "outputs": [
        {
          "output_type": "execute_result",
          "data": {
            "text/plain": [
              "Seq('ACTCGT')"
            ]
          },
          "metadata": {},
          "execution_count": 12
        }
      ]
    },
    {
      "cell_type": "code",
      "source": [
        "seq2"
      ],
      "metadata": {
        "colab": {
          "base_uri": "https://localhost:8080/"
        },
        "id": "_t9yK2mseHex",
        "outputId": "93ce8924-1cfd-4d98-c482-1c33ca11d595"
      },
      "execution_count": 13,
      "outputs": [
        {
          "output_type": "execute_result",
          "data": {
            "text/plain": [
              "Seq('ATTCG')"
            ]
          },
          "metadata": {},
          "execution_count": 13
        }
      ]
    },
    {
      "cell_type": "code",
      "source": [
        "alignment2 / len(seq1) * 100"
      ],
      "metadata": {
        "colab": {
          "base_uri": "https://localhost:8080/"
        },
        "id": "zpQY5XdIeItT",
        "outputId": "1a2b19a1-d747-4a75-8beb-70d2c162c80d"
      },
      "execution_count": 14,
      "outputs": [
        {
          "output_type": "execute_result",
          "data": {
            "text/plain": [
              "66.66666666666666"
            ]
          },
          "metadata": {},
          "execution_count": 14
        }
      ]
    },
    {
      "cell_type": "code",
      "source": [
        "# Get the alignment by only the score\n",
        "loc_alignment2 = pairwise2.align.localxx(seq1, seq2, one_alignment_only = True, score_only = True)"
      ],
      "metadata": {
        "id": "hgQkwvN7eNCr"
      },
      "execution_count": 15,
      "outputs": []
    },
    {
      "cell_type": "code",
      "source": [
        "loc_alignment2 / len(seq1) * 100"
      ],
      "metadata": {
        "colab": {
          "base_uri": "https://localhost:8080/"
        },
        "id": "PMmAVPWxeVOW",
        "outputId": "d255043d-d6ee-4d1e-8c3f-954da8e9f831"
      },
      "execution_count": 16,
      "outputs": [
        {
          "output_type": "execute_result",
          "data": {
            "text/plain": [
              "66.66666666666666"
            ]
          },
          "metadata": {},
          "execution_count": 16
        }
      ]
    },
    {
      "cell_type": "markdown",
      "source": [
        "Check for similarity or percentage of similarity using Alignment \n",
        "\n",
        "The minimal number of edit operations (inserts, deletes, and substitutions) in order to transform the one sequence into an exact copy of the other sequence being aligned \n",
        "\n",
        "Distance Identity: the number of characters that match EXACTLY between two different sequences \n",
        "\n",
        "Gaps are not counted The measurement is relational to the shorter of the two sequences. This has the effect that sequence identity is not transitive, i.e. if sequence A=B and B=C then A is not necessarily equal C (in terms of the identity distance measure) :"
      ],
      "metadata": {
        "id": "ESiedrzieqp7"
      }
    },
    {
      "cell_type": "markdown",
      "source": [
        "- Here:\n",
        "  - Identity(A,B) = 100% (5 identical nucleotides / min(length(A), length(B))).\n",
        "  - Identity(B,C) = 100%\n",
        "  - Identity(A,C) = 85% (6 identical nucleotides / 7). \n",
        "\n",
        "  So, 100% identity does not mean two sequences are the same.\n",
        "\n",
        "- Sequence similarity is first of all a general description of a relationship but nevertheless its more or less common practice to define similarity as an optimal matching problem (for sequence alignments or unless defined otherwise)\n",
        "\n",
        "- Hereby, the optimal matching algorithm finds the minimal number of edit operations (inserts, deletes, and substitutions) in order to transform the one sequence into an exact copy of the other sequence being aligned (edit distance)\n",
        "\n",
        "- Using this, the percentage sequence similarity of the examples above are:\n",
        "  - sim(A,B) = 60%\n",
        "  - sim(B,C) = 60%\n",
        "  - sim(A,C) = 86%\n",
        "\n",
        "  (semi-global, sim = 1 - (edit distance / unaligned length of the shorter sequence)\n",
        "\n",
        "  But there are other ways to define similarity between two objects (e.g. using tertiary structure of proteins). And then you might start to conclude from similarity to homology, but this was already covered sufficiently.\n"
      ],
      "metadata": {
        "id": "P-AmGpgdgqky"
      }
    },
    {
      "cell_type": "code",
      "source": [
        "seqA = Seq('AAGGCTT')\n",
        "seqB = Seq('AAGGC')\n",
        "seqC = Seq('AAGGCAT')"
      ],
      "metadata": {
        "id": "qN-KmGBje1an"
      },
      "execution_count": 17,
      "outputs": []
    },
    {
      "cell_type": "code",
      "source": [
        "AvB = pairwise2.align.localxx(seqA, seqB, one_alignment_only = True, score_only = True)\n",
        "BvC = pairwise2.align.localxx(seqB, seqC, one_alignment_only = True, score_only = True)\n",
        "AvC = pairwise2.align.localxx(seqA, seqC, one_alignment_only = True, score_only = True)"
      ],
      "metadata": {
        "id": "Ktsy2LuXfBGR"
      },
      "execution_count": 18,
      "outputs": []
    },
    {
      "cell_type": "code",
      "source": [
        "print(\"AvB\", AvB / len(seqB) * 100)\n",
        "print(\"BvC\", BvC / len(seqB) * 100)\n",
        "print(\"AvC\", AvC / len(seqC) * 100)"
      ],
      "metadata": {
        "colab": {
          "base_uri": "https://localhost:8080/"
        },
        "id": "lg8gNlRVfSnl",
        "outputId": "51462ef3-23ca-4708-c8b9-e8a4f59d8056"
      },
      "execution_count": 19,
      "outputs": [
        {
          "output_type": "stream",
          "name": "stdout",
          "text": [
            "AvB 100.0\n",
            "BvC 100.0\n",
            "AvC 85.71428571428571\n"
          ]
        }
      ]
    },
    {
      "cell_type": "code",
      "source": [
        "# Check if same\n",
        "seqA == seqB"
      ],
      "metadata": {
        "colab": {
          "base_uri": "https://localhost:8080/"
        },
        "id": "i5bicG4lfwvL",
        "outputId": "3f4ce13e-5b5b-499a-9548-11de13a4d9b1"
      },
      "execution_count": 20,
      "outputs": [
        {
          "output_type": "execute_result",
          "data": {
            "text/plain": [
              "False"
            ]
          },
          "metadata": {},
          "execution_count": 20
        }
      ]
    },
    {
      "cell_type": "markdown",
      "source": [
        "**Hamming Distance, Levenstein Distance, and Dot Plot**"
      ],
      "metadata": {
        "id": "JNDrdI5WjDqT"
      }
    },
    {
      "cell_type": "markdown",
      "source": [
        "Hamming distance: shows how many places 2 strings differ \n",
        "\n",
        "1. Hamming distance between two strings of equal length is the number of positions at which the corresponding symbols are different. \n",
        "2. In other words, it measures the minimum number of substitutions required to change one string into the other, or the minimum number of errors that could have transformed one string into the other.\n",
        "3. It is used for error detection or error correction \n",
        "4. It is used to quantify the similarity of DNA sequences,"
      ],
      "metadata": {
        "id": "R6v0Lo5jgH8O"
      }
    },
    {
      "cell_type": "code",
      "source": [
        "seq1 = Seq('ACTAT')\n",
        "seq2 = Seq('ACTTA')\n",
        "seq3 = Seq('ACTT')"
      ],
      "metadata": {
        "id": "vjgH3YZwgR_9"
      },
      "execution_count": 21,
      "outputs": []
    },
    {
      "cell_type": "code",
      "source": [
        "# Hamming Distance Function\n",
        "def hamming_distance(lhs, rhs):\n",
        "  return len([(x,y) for x,y in zip(lhs, rhs) if x != y])"
      ],
      "metadata": {
        "id": "rZwvmxHZjfsj"
      },
      "execution_count": 22,
      "outputs": []
    },
    {
      "cell_type": "code",
      "source": [
        "hamming_distance(seq1, seq2)"
      ],
      "metadata": {
        "colab": {
          "base_uri": "https://localhost:8080/"
        },
        "id": "BTjzLwxjjrXa",
        "outputId": "811b123a-41c3-441f-b07a-842dad32d1e0"
      },
      "execution_count": 23,
      "outputs": [
        {
          "output_type": "execute_result",
          "data": {
            "text/plain": [
              "2"
            ]
          },
          "metadata": {},
          "execution_count": 23
        }
      ]
    },
    {
      "cell_type": "code",
      "source": [
        "# 0 if the same\n",
        "hamming_distance(seq1, seq1)"
      ],
      "metadata": {
        "colab": {
          "base_uri": "https://localhost:8080/"
        },
        "id": "1ZwOiDPSjuSK",
        "outputId": "ae9f60e5-8459-4dd7-a5c7-fe532f465d27"
      },
      "execution_count": 24,
      "outputs": [
        {
          "output_type": "execute_result",
          "data": {
            "text/plain": [
              "0"
            ]
          },
          "metadata": {},
          "execution_count": 24
        }
      ]
    },
    {
      "cell_type": "code",
      "source": [
        "print(seq1)\n",
        "print(seq1[::-1])"
      ],
      "metadata": {
        "colab": {
          "base_uri": "https://localhost:8080/"
        },
        "id": "GBBfH45Vjxf4",
        "outputId": "884de599-8c2e-488b-e706-fb9b95a6537a"
      },
      "execution_count": 25,
      "outputs": [
        {
          "output_type": "stream",
          "name": "stdout",
          "text": [
            "ACTAT\n",
            "TATCA\n"
          ]
        }
      ]
    },
    {
      "cell_type": "code",
      "source": [
        "hamming_distance(seq1, seq1[::-1])"
      ],
      "metadata": {
        "colab": {
          "base_uri": "https://localhost:8080/"
        },
        "id": "-MW2nvLIj0Aj",
        "outputId": "e4659ea6-4f8c-4f8b-84be-9784f9b7fdfa"
      },
      "execution_count": 26,
      "outputs": [
        {
          "output_type": "execute_result",
          "data": {
            "text/plain": [
              "4"
            ]
          },
          "metadata": {},
          "execution_count": 26
        }
      ]
    },
    {
      "cell_type": "code",
      "source": [
        "hamming_distance(seq1, seq3)"
      ],
      "metadata": {
        "colab": {
          "base_uri": "https://localhost:8080/"
        },
        "id": "lIZY41_-j3-h",
        "outputId": "3d38938f-4415-4dc4-8963-73aa6931f4cd"
      },
      "execution_count": 27,
      "outputs": [
        {
          "output_type": "execute_result",
          "data": {
            "text/plain": [
              "1"
            ]
          },
          "metadata": {},
          "execution_count": 27
        }
      ]
    },
    {
      "cell_type": "markdown",
      "source": [
        "Levenshtein distance: This method was invented in 1965 by the Russian Mathematician Vladimir Levenshtein (1935-2017). \n",
        "1. The distance value describes the minimal number of deletions, insertions, or substitutions that are required to transform one string (the source) into another (the target) \n",
        "2. Unlike the Hamming distance, the Levenshtein distance works on strings with an unequal length"
      ],
      "metadata": {
        "id": "Z2thSFmOjJl4"
      }
    },
    {
      "cell_type": "code",
      "source": [
        "!pip install python-Levenshtein\n",
        "from Levenshtein import distance"
      ],
      "metadata": {
        "colab": {
          "base_uri": "https://localhost:8080/"
        },
        "id": "KZFQtZ-DjJAl",
        "outputId": "e768d0a3-8710-4b3d-fb2b-64471ac82c6f"
      },
      "execution_count": 28,
      "outputs": [
        {
          "output_type": "stream",
          "name": "stdout",
          "text": [
            "Looking in indexes: https://pypi.org/simple, https://us-python.pkg.dev/colab-wheels/public/simple/\n",
            "Collecting python-Levenshtein\n",
            "  Downloading python_Levenshtein-0.20.9-py3-none-any.whl (9.4 kB)\n",
            "Collecting Levenshtein==0.20.9\n",
            "  Downloading Levenshtein-0.20.9-cp38-cp38-manylinux_2_17_x86_64.manylinux2014_x86_64.whl (174 kB)\n",
            "\u001b[2K     \u001b[90m━━━━━━━━━━━━━━━━━━━━━━━━━━━━━━━━━━━━━━━\u001b[0m \u001b[32m174.0/174.0 KB\u001b[0m \u001b[31m4.3 MB/s\u001b[0m eta \u001b[36m0:00:00\u001b[0m\n",
            "\u001b[?25hCollecting rapidfuzz<3.0.0,>=2.3.0\n",
            "  Downloading rapidfuzz-2.13.7-cp38-cp38-manylinux_2_17_x86_64.manylinux2014_x86_64.whl (2.2 MB)\n",
            "\u001b[2K     \u001b[90m━━━━━━━━━━━━━━━━━━━━━━━━━━━━━━━━━━━━━━━━\u001b[0m \u001b[32m2.2/2.2 MB\u001b[0m \u001b[31m24.4 MB/s\u001b[0m eta \u001b[36m0:00:00\u001b[0m\n",
            "\u001b[?25hInstalling collected packages: rapidfuzz, Levenshtein, python-Levenshtein\n",
            "Successfully installed Levenshtein-0.20.9 python-Levenshtein-0.20.9 rapidfuzz-2.13.7\n"
          ]
        }
      ]
    },
    {
      "cell_type": "code",
      "source": [
        "distance(str(seq1), str(seq2))"
      ],
      "metadata": {
        "colab": {
          "base_uri": "https://localhost:8080/"
        },
        "id": "OPn878MgkU73",
        "outputId": "1a9eed13-e3a6-47d6-e306-23147a3c3eab"
      },
      "execution_count": 29,
      "outputs": [
        {
          "output_type": "execute_result",
          "data": {
            "text/plain": [
              "2"
            ]
          },
          "metadata": {},
          "execution_count": 29
        }
      ]
    },
    {
      "cell_type": "code",
      "source": [
        "print(\"Hamming distance\", hamming_distance(seq1, seq2))\n",
        "print(\"Levenshtein distance\", distance(str(seq1), str(seq2)))"
      ],
      "metadata": {
        "colab": {
          "base_uri": "https://localhost:8080/"
        },
        "id": "6Ymgnep2kXuE",
        "outputId": "a0ff7f97-8bd8-4656-cfa8-0f07e3dc1ef1"
      },
      "execution_count": 30,
      "outputs": [
        {
          "output_type": "stream",
          "name": "stdout",
          "text": [
            "Hamming distance 2\n",
            "Levenshtein distance 2\n"
          ]
        }
      ]
    },
    {
      "cell_type": "code",
      "source": [
        "print(\"Hamming distance\", hamming_distance(seq1, seq3))\n",
        "print(\"Levenshtein distance\", distance(str(seq1), str(seq3)))"
      ],
      "metadata": {
        "colab": {
          "base_uri": "https://localhost:8080/"
        },
        "id": "FkmIAq0YkjkM",
        "outputId": "8af879ff-a764-4c98-b32c-6f1c70c6a696"
      },
      "execution_count": 31,
      "outputs": [
        {
          "output_type": "stream",
          "name": "stdout",
          "text": [
            "Hamming distance 1\n",
            "Levenshtein distance 1\n"
          ]
        }
      ]
    },
    {
      "cell_type": "markdown",
      "source": [
        "Dot Plot \n",
        "1. A dot plot is a graphical method that allows the comparison of two biological sequences and identify regions of close similarity between them. \n",
        "2. Simplest method - put a dot wherever sequences are identical \n",
        "3. Dot plots compare two sequences by organizing one sequence on the x-axis, and another on the y-axis, of a plot. \n",
        "4. When the residues of both sequences match at the same location on the plot, a dot is drawn at the corresponding position usefulness \n",
        "\n",
        "Dot plots can also be used to visually inspect sequences for : direct or inverted repeats; regions with low sequence complexity; Similar regions; Repeated sequences; Sequence rearrangements; RNA structures; Gene order"
      ],
      "metadata": {
        "id": "V5eCR5psjOdc"
      }
    },
    {
      "cell_type": "code",
      "source": [
        "# Define function\n",
        "\n",
        "def delta(x,y):\n",
        "  return 0 if x == y else 1\n",
        "\n",
        "def M(seq1, seq2, i, j, k):\n",
        "  return sum(delta(x,y) for x,y in zip(seq1[i:i+k], seq2[j:j+k]))\n",
        "\n",
        "def makeMatrix(seq1, seq2, k):\n",
        "  n = len(seq1)\n",
        "  m = len(seq2)\n",
        "  return [[M(seq1, seq2, i, j, k) for j in range(m - k + 1)] for i in range(n - k + 1)]\n",
        "\n",
        "def plotMatrix(M, t, seq1, seq2, nonblank = chr(0x25A0), blank = ' '):\n",
        "  print(' |' + seq2)\n",
        "  print('-' * (2 + len(seq2)))\n",
        "  for label,row in zip(seq1, M):\n",
        "    line = ''.join(nonblank if s < t else blank for s in row)\n",
        "    print(label + '|' + line)\n",
        "\n",
        "def dotplot(seq1, seq2, k = 1, t = 1):\n",
        "  M = makeMatrix(seq1, seq2, k)\n",
        "  plotMatrix(M, t, seq1, seq2) # experiment with character choice"
      ],
      "metadata": {
        "id": "ETmSeq6ejOQb"
      },
      "execution_count": 32,
      "outputs": []
    },
    {
      "cell_type": "code",
      "source": [
        "# Run dotplot function\n",
        "\n",
        "from Bio.Seq import Seq\n",
        "\n",
        "seq1 = Seq('ACTTAG')\n",
        "seq2 = Seq('AC')\n",
        "\n",
        "dotplot(seq1, seq2)\n",
        "print()\n",
        "\n",
        "# identical show diagonal\n",
        "dotplot(seq1, seq1)\n",
        "print()\n",
        "\n",
        "# identical show diagonal\n",
        "dotplot('TREE', 'TREE')\n",
        "print()\n",
        "\n",
        "import matplotlib.pyplot as plt\n",
        "import numpy as np\n",
        "\n",
        "# Add some fancyness to it\n",
        "plt.imshow(np.array(makeMatrix(seq1, seq2, 1)))\n",
        "xt = plt.xticks(np.arange(len(list(seq1))), list(seq1))\n",
        "yt = plt.yticks(np.arange(len(list(seq1))), list(seq1))\n",
        "plt.show()\n",
        "print()\n",
        "\n",
        "# Convert to function\n",
        "def dotplotx(seq1, seq2):\n",
        "  plt.imshow(np.array(makeMatrix(seq1, seq2, 1)))\n",
        "  # on x-axis list all sequences of seq 2\n",
        "  xt = plt.xticks(np.arange(len(list(seq2))), list(seq2))\n",
        "  # on y-axis list all sequences of seq 1\n",
        "  yt = plt.yticks(np.arange(len(list(seq1))), list(seq1))\n",
        "  plt.show()\n",
        "\n",
        "dotplotx(seq1, seq2)\n",
        "print()\n",
        "\n",
        "dna1 = Seq('ATGATCTCGTAA')\n",
        "dna2 = Seq('ATTATGTCGTAA')\n",
        "\n",
        "dotplot(dna1, dna2)\n",
        "print()\n",
        "\n",
        "dotplotx(dna1, dna2)\n",
        "print()\n",
        "\n",
        "dotplotx(dna1, dna1)\n",
        "print()"
      ],
      "metadata": {
        "colab": {
          "base_uri": "https://localhost:8080/",
          "height": 1000
        },
        "id": "CMnZiswIkqvt",
        "outputId": "74d28546-7f9f-4eff-ae00-349fa8795dd1"
      },
      "execution_count": 33,
      "outputs": [
        {
          "output_type": "stream",
          "name": "stdout",
          "text": [
            " |AC\n",
            "----\n",
            "A|■ \n",
            "C| ■\n",
            "T|  \n",
            "T|  \n",
            "A|■ \n",
            "G|  \n",
            "\n",
            " |ACTTAG\n",
            "--------\n",
            "A|■   ■ \n",
            "C| ■    \n",
            "T|  ■■  \n",
            "T|  ■■  \n",
            "A|■   ■ \n",
            "G|     ■\n",
            "\n",
            " |TREE\n",
            "------\n",
            "T|■   \n",
            "R| ■  \n",
            "E|  ■■\n",
            "E|  ■■\n",
            "\n"
          ]
        },
        {
          "output_type": "display_data",
          "data": {
            "text/plain": [
              "<Figure size 432x288 with 1 Axes>"
            ],
            "image/png": "[encoded data removed]"
          },
          "metadata": {
            "needs_background": "light"
          }
        },
        {
          "output_type": "stream",
          "name": "stdout",
          "text": [
            "\n"
          ]
        },
        {
          "output_type": "display_data",
          "data": {
            "text/plain": [
              "<Figure size 432x288 with 1 Axes>"
            ],
            "image/png": "[encoded data removed]"
          },
          "metadata": {
            "needs_background": "light"
          }
        },
        {
          "output_type": "stream",
          "name": "stdout",
          "text": [
            "\n",
            " |ATTATGTCGTAA\n",
            "--------------\n",
            "A|■  ■      ■■\n",
            "T| ■■ ■ ■  ■  \n",
            "G|     ■  ■   \n",
            "A|■  ■      ■■\n",
            "T| ■■ ■ ■  ■  \n",
            "C|       ■    \n",
            "T| ■■ ■ ■  ■  \n",
            "C|       ■    \n",
            "G|     ■  ■   \n",
            "T| ■■ ■ ■  ■  \n",
            "A|■  ■      ■■\n",
            "A|■  ■      ■■\n",
            "\n"
          ]
        },
        {
          "output_type": "display_data",
          "data": {
            "text/plain": [
              "<Figure size 432x288 with 1 Axes>"
            ],
            "image/png": "[encoded data removed]"
          },
          "metadata": {
            "needs_background": "light"
          }
        },
        {
          "output_type": "stream",
          "name": "stdout",
          "text": [
            "\n"
          ]
        },
        {
          "output_type": "display_data",
          "data": {
            "text/plain": [
              "<Figure size 432x288 with 1 Axes>"
            ],
            "image/png": "[encoded data removed]"
          },
          "metadata": {
            "needs_background": "light"
          }
        },
        {
          "output_type": "stream",
          "name": "stdout",
          "text": [
            "\n"
          ]
        }
      ]
    },
    {
      "cell_type": "markdown",
      "source": [
        "EXERCISE"
      ],
      "metadata": {
        "id": "zaHkuxDenUcD"
      }
    },
    {
      "cell_type": "code",
      "source": [
        "!pip install biopython"
      ],
      "metadata": {
        "colab": {
          "base_uri": "https://localhost:8080/"
        },
        "id": "cjXz0rHJnZxX",
        "outputId": "367a4989-497b-4cf4-d70b-883fed0a92df"
      },
      "execution_count": 34,
      "outputs": [
        {
          "output_type": "stream",
          "name": "stdout",
          "text": [
            "Looking in indexes: https://pypi.org/simple, https://us-python.pkg.dev/colab-wheels/public/simple/\n",
            "Requirement already satisfied: biopython in /usr/local/lib/python3.8/dist-packages (1.81)\n",
            "Requirement already satisfied: numpy in /usr/local/lib/python3.8/dist-packages (from biopython) (1.22.4)\n"
          ]
        }
      ]
    },
    {
      "cell_type": "code",
      "source": [
        "import Bio\n",
        "from Bio.Seq import Seq\n",
        "from Bio import pairwise2\n",
        "from Bio.pairwise2 import format_alignment"
      ],
      "metadata": {
        "id": "V9auV7ZYncXG"
      },
      "execution_count": 35,
      "outputs": []
    },
    {
      "cell_type": "code",
      "source": [
        "sequence1 = Seq('ATGCATGGTGCGCGA')\n",
        "sequence2 = Seq('ATTTGTGCTCCTGGA')\n",
        "\n",
        "print(len(sequence1))\n",
        "print(len(sequence2))"
      ],
      "metadata": {
        "colab": {
          "base_uri": "https://localhost:8080/"
        },
        "id": "_xH_eDYwnWto",
        "outputId": "03de63d4-8bc6-48c9-fa5c-2c3dafcc5cfe"
      },
      "execution_count": 36,
      "outputs": [
        {
          "output_type": "stream",
          "name": "stdout",
          "text": [
            "15\n",
            "15\n"
          ]
        }
      ]
    },
    {
      "cell_type": "code",
      "source": [
        "seqAlign = pairwise2.align.globalxx(sequence1, sequence2)"
      ],
      "metadata": {
        "id": "6Zm230V5pGNW"
      },
      "execution_count": 37,
      "outputs": []
    },
    {
      "cell_type": "code",
      "source": [
        "for a in seqAlign:\n",
        "  print(format_alignment(*a))"
      ],
      "metadata": {
        "colab": {
          "base_uri": "https://localhost:8080/"
        },
        "id": "70WHvD8wpDon",
        "outputId": "405b0837-3738-4a82-cb06-663d5d3aafe7"
      },
      "execution_count": 38,
      "outputs": [
        {
          "output_type": "stream",
          "name": "stdout",
          "text": [
            "ATGCATG-GTGCG-C--G-A\n",
            "||   |  ||||  |  | |\n",
            "AT---T-TGTGC-TCCTGGA\n",
            "  Score=10\n",
            "\n",
            "ATGCATGGTGCG-C--G-A\n",
            "||   |.||||  |  | |\n",
            "AT---TTGTGC-TCCTGGA\n",
            "  Score=10\n",
            "\n",
            "ATGCA-TGGTGCG-C--G-A\n",
            "||    | ||||  |  | |\n",
            "AT---TT-GTGC-TCCTGGA\n",
            "  Score=10\n",
            "\n",
            "ATGCATGGTGCG-C--G-A\n",
            "||  .| ||||  |  | |\n",
            "AT--TT-GTGC-TCCTGGA\n",
            "  Score=10\n",
            "\n",
            "ATGCATGGTGCG-C--G-A\n",
            "|| . | ||||  |  | |\n",
            "AT-T-T-GTGC-TCCTGGA\n",
            "  Score=10\n",
            "\n",
            "ATGCATGGTGCG-C--G-A\n",
            "||.  | ||||  |  | |\n",
            "ATT--T-GTGC-TCCTGGA\n",
            "  Score=10\n",
            "\n",
            "A-TGCATGGTGCG-C--G-A\n",
            "| |   | ||||  |  | |\n",
            "ATT---T-GTGC-TCCTGGA\n",
            "  Score=10\n",
            "\n",
            "ATGCAT-GGTGCG-C--G-A\n",
            "||   | | |||  |  | |\n",
            "AT---TTG-TGC-TCCTGGA\n",
            "  Score=10\n",
            "\n",
            "ATGCA-TGGTGCG-C--G-A\n",
            "||    || |||  |  | |\n",
            "AT---TTG-TGC-TCCTGGA\n",
            "  Score=10\n",
            "\n",
            "ATGCATGGTGCG-C--G-A\n",
            "||  .|| |||  |  | |\n",
            "AT--TTG-TGC-TCCTGGA\n",
            "  Score=10\n",
            "\n",
            "ATGCATGGTGCG-C--G-A\n",
            "|| . || |||  |  | |\n",
            "AT-T-TG-TGC-TCCTGGA\n",
            "  Score=10\n",
            "\n",
            "ATGCATGGTGCG-C--G-A\n",
            "||.  || |||  |  | |\n",
            "ATT--TG-TGC-TCCTGGA\n",
            "  Score=10\n",
            "\n",
            "A-TGCATGGTGCG-C--G-A\n",
            "| |   || |||  |  | |\n",
            "ATT---TG-TGC-TCCTGGA\n",
            "  Score=10\n",
            "\n",
            "ATGCATG-GTGCGC--G-A\n",
            "||   |  ||||.|  | |\n",
            "AT---T-TGTGCTCCTGGA\n",
            "  Score=10\n",
            "\n",
            "ATGCATGGTGCGC--G-A\n",
            "||   |.||||.|  | |\n",
            "AT---TTGTGCTCCTGGA\n",
            "  Score=10\n",
            "\n",
            "ATGCA-TGGTGCGC--G-A\n",
            "||    | ||||.|  | |\n",
            "AT---TT-GTGCTCCTGGA\n",
            "  Score=10\n",
            "\n",
            "ATGCATGGTGCGC--G-A\n",
            "||  .| ||||.|  | |\n",
            "AT--TT-GTGCTCCTGGA\n",
            "  Score=10\n",
            "\n",
            "ATGCATGGTGCGC--G-A\n",
            "|| . | ||||.|  | |\n",
            "AT-T-T-GTGCTCCTGGA\n",
            "  Score=10\n",
            "\n",
            "ATGCATGGTGCGC--G-A\n",
            "||.  | ||||.|  | |\n",
            "ATT--T-GTGCTCCTGGA\n",
            "  Score=10\n",
            "\n",
            "A-TGCATGGTGCGC--G-A\n",
            "| |   | ||||.|  | |\n",
            "ATT---T-GTGCTCCTGGA\n",
            "  Score=10\n",
            "\n",
            "ATGCAT-GGTGCGC--G-A\n",
            "||   | | |||.|  | |\n",
            "AT---TTG-TGCTCCTGGA\n",
            "  Score=10\n",
            "\n",
            "ATGCA-TGGTGCGC--G-A\n",
            "||    || |||.|  | |\n",
            "AT---TTG-TGCTCCTGGA\n",
            "  Score=10\n",
            "\n",
            "ATGCATGGTGCGC--G-A\n",
            "||  .|| |||.|  | |\n",
            "AT--TTG-TGCTCCTGGA\n",
            "  Score=10\n",
            "\n",
            "ATGCATGGTGCGC--G-A\n",
            "|| . || |||.|  | |\n",
            "AT-T-TG-TGCTCCTGGA\n",
            "  Score=10\n",
            "\n",
            "ATGCATGGTGCGC--G-A\n",
            "||.  || |||.|  | |\n",
            "ATT--TG-TGCTCCTGGA\n",
            "  Score=10\n",
            "\n",
            "A-TGCATGGTGCGC--G-A\n",
            "| |   || |||.|  | |\n",
            "ATT---TG-TGCTCCTGGA\n",
            "  Score=10\n",
            "\n",
            "ATGCATG-GTGCG--C-G-A\n",
            "||   |  ||||   | | |\n",
            "AT---T-TGTGC-TCCTGGA\n",
            "  Score=10\n",
            "\n",
            "ATGCATGGTGCG--C-G-A\n",
            "||   |.||||   | | |\n",
            "AT---TTGTGC-TCCTGGA\n",
            "  Score=10\n",
            "\n",
            "ATGCA-TGGTGCG--C-G-A\n",
            "||    | ||||   | | |\n",
            "AT---TT-GTGC-TCCTGGA\n",
            "  Score=10\n",
            "\n",
            "ATGCATGGTGCG--C-G-A\n",
            "||  .| ||||   | | |\n",
            "AT--TT-GTGC-TCCTGGA\n",
            "  Score=10\n",
            "\n",
            "ATGCATGGTGCG--C-G-A\n",
            "|| . | ||||   | | |\n",
            "AT-T-T-GTGC-TCCTGGA\n",
            "  Score=10\n",
            "\n",
            "ATGCATGGTGCG--C-G-A\n",
            "||.  | ||||   | | |\n",
            "ATT--T-GTGC-TCCTGGA\n",
            "  Score=10\n",
            "\n",
            "A-TGCATGGTGCG--C-G-A\n",
            "| |   | ||||   | | |\n",
            "ATT---T-GTGC-TCCTGGA\n",
            "  Score=10\n",
            "\n",
            "ATGCAT-GGTGCG--C-G-A\n",
            "||   | | |||   | | |\n",
            "AT---TTG-TGC-TCCTGGA\n",
            "  Score=10\n",
            "\n",
            "ATGCA-TGGTGCG--C-G-A\n",
            "||    || |||   | | |\n",
            "AT---TTG-TGC-TCCTGGA\n",
            "  Score=10\n",
            "\n",
            "ATGCATGGTGCG--C-G-A\n",
            "||  .|| |||   | | |\n",
            "AT--TTG-TGC-TCCTGGA\n",
            "  Score=10\n",
            "\n",
            "ATGCATGGTGCG--C-G-A\n",
            "|| . || |||   | | |\n",
            "AT-T-TG-TGC-TCCTGGA\n",
            "  Score=10\n",
            "\n",
            "ATGCATGGTGCG--C-G-A\n",
            "||.  || |||   | | |\n",
            "ATT--TG-TGC-TCCTGGA\n",
            "  Score=10\n",
            "\n",
            "A-TGCATGGTGCG--C-G-A\n",
            "| |   || |||   | | |\n",
            "ATT---TG-TGC-TCCTGGA\n",
            "  Score=10\n",
            "\n",
            "ATGCATG-GTGCG-C-G-A\n",
            "||   |  ||||. | | |\n",
            "AT---T-TGTGCTCCTGGA\n",
            "  Score=10\n",
            "\n",
            "ATGCATGGTGCG-C-G-A\n",
            "||   |.||||. | | |\n",
            "AT---TTGTGCTCCTGGA\n",
            "  Score=10\n",
            "\n",
            "ATGCA-TGGTGCG-C-G-A\n",
            "||    | ||||. | | |\n",
            "AT---TT-GTGCTCCTGGA\n",
            "  Score=10\n",
            "\n",
            "ATGCATGGTGCG-C-G-A\n",
            "||  .| ||||. | | |\n",
            "AT--TT-GTGCTCCTGGA\n",
            "  Score=10\n",
            "\n",
            "ATGCATGGTGCG-C-G-A\n",
            "|| . | ||||. | | |\n",
            "AT-T-T-GTGCTCCTGGA\n",
            "  Score=10\n",
            "\n",
            "ATGCATGGTGCG-C-G-A\n",
            "||.  | ||||. | | |\n",
            "ATT--T-GTGCTCCTGGA\n",
            "  Score=10\n",
            "\n",
            "A-TGCATGGTGCG-C-G-A\n",
            "| |   | ||||. | | |\n",
            "ATT---T-GTGCTCCTGGA\n",
            "  Score=10\n",
            "\n",
            "ATGCAT-GGTGCG-C-G-A\n",
            "||   | | |||. | | |\n",
            "AT---TTG-TGCTCCTGGA\n",
            "  Score=10\n",
            "\n",
            "ATGCA-TGGTGCG-C-G-A\n",
            "||    || |||. | | |\n",
            "AT---TTG-TGCTCCTGGA\n",
            "  Score=10\n",
            "\n",
            "ATGCATGGTGCG-C-G-A\n",
            "||  .|| |||. | | |\n",
            "AT--TTG-TGCTCCTGGA\n",
            "  Score=10\n",
            "\n",
            "ATGCATGGTGCG-C-G-A\n",
            "|| . || |||. | | |\n",
            "AT-T-TG-TGCTCCTGGA\n",
            "  Score=10\n",
            "\n",
            "ATGCATGGTGCG-C-G-A\n",
            "||.  || |||. | | |\n",
            "ATT--TG-TGCTCCTGGA\n",
            "  Score=10\n",
            "\n",
            "A-TGCATGGTGCG-C-G-A\n",
            "| |   || |||. | | |\n",
            "ATT---TG-TGCTCCTGGA\n",
            "  Score=10\n",
            "\n",
            "ATGCATG-GTGC-GC-G-A\n",
            "||   |  |||| .| | |\n",
            "AT---T-TGTGCTCCTGGA\n",
            "  Score=10\n",
            "\n",
            "ATGCATGGTGC-GC-G-A\n",
            "||   |.|||| .| | |\n",
            "AT---TTGTGCTCCTGGA\n",
            "  Score=10\n",
            "\n",
            "ATGCA-TGGTGC-GC-G-A\n",
            "||    | |||| .| | |\n",
            "AT---TT-GTGCTCCTGGA\n",
            "  Score=10\n",
            "\n",
            "ATGCATGGTGC-GC-G-A\n",
            "||  .| |||| .| | |\n",
            "AT--TT-GTGCTCCTGGA\n",
            "  Score=10\n",
            "\n",
            "ATGCATGGTGC-GC-G-A\n",
            "|| . | |||| .| | |\n",
            "AT-T-T-GTGCTCCTGGA\n",
            "  Score=10\n",
            "\n",
            "ATGCATGGTGC-GC-G-A\n",
            "||.  | |||| .| | |\n",
            "ATT--T-GTGCTCCTGGA\n",
            "  Score=10\n",
            "\n",
            "A-TGCATGGTGC-GC-G-A\n",
            "| |   | |||| .| | |\n",
            "ATT---T-GTGCTCCTGGA\n",
            "  Score=10\n",
            "\n",
            "ATGCAT-GGTGC-GC-G-A\n",
            "||   | | ||| .| | |\n",
            "AT---TTG-TGCTCCTGGA\n",
            "  Score=10\n",
            "\n",
            "ATGCA-TGGTGC-GC-G-A\n",
            "||    || ||| .| | |\n",
            "AT---TTG-TGCTCCTGGA\n",
            "  Score=10\n",
            "\n",
            "ATGCATGGTGC-GC-G-A\n",
            "||  .|| ||| .| | |\n",
            "AT--TTG-TGCTCCTGGA\n",
            "  Score=10\n",
            "\n",
            "ATGCATGGTGC-GC-G-A\n",
            "|| . || ||| .| | |\n",
            "AT-T-TG-TGCTCCTGGA\n",
            "  Score=10\n",
            "\n",
            "ATGCATGGTGC-GC-G-A\n",
            "||.  || ||| .| | |\n",
            "ATT--TG-TGCTCCTGGA\n",
            "  Score=10\n",
            "\n",
            "A-TGCATGGTGC-GC-G-A\n",
            "| |   || ||| .| | |\n",
            "ATT---TG-TGCTCCTGGA\n",
            "  Score=10\n",
            "\n",
            "ATGCATG-GTG--CGC-G-A\n",
            "||   |  |||  | | | |\n",
            "AT---T-TGTGCTC-CTGGA\n",
            "  Score=10\n",
            "\n",
            "ATGCATGGTG--CGC-G-A\n",
            "||   |.|||  | | | |\n",
            "AT---TTGTGCTC-CTGGA\n",
            "  Score=10\n",
            "\n",
            "ATGCA-TGGTG--CGC-G-A\n",
            "||    | |||  | | | |\n",
            "AT---TT-GTGCTC-CTGGA\n",
            "  Score=10\n",
            "\n",
            "ATGCATGGTG--CGC-G-A\n",
            "||  .| |||  | | | |\n",
            "AT--TT-GTGCTC-CTGGA\n",
            "  Score=10\n",
            "\n",
            "ATGCATGGTG--CGC-G-A\n",
            "|| . | |||  | | | |\n",
            "AT-T-T-GTGCTC-CTGGA\n",
            "  Score=10\n",
            "\n",
            "ATGCATGGTG--CGC-G-A\n",
            "||.  | |||  | | | |\n",
            "ATT--T-GTGCTC-CTGGA\n",
            "  Score=10\n",
            "\n",
            "A-TGCATGGTG--CGC-G-A\n",
            "| |   | |||  | | | |\n",
            "ATT---T-GTGCTC-CTGGA\n",
            "  Score=10\n",
            "\n",
            "ATGCAT-GGTG--CGC-G-A\n",
            "||   | | ||  | | | |\n",
            "AT---TTG-TGCTC-CTGGA\n",
            "  Score=10\n",
            "\n",
            "ATGCA-TGGTG--CGC-G-A\n",
            "||    || ||  | | | |\n",
            "AT---TTG-TGCTC-CTGGA\n",
            "  Score=10\n",
            "\n",
            "ATGCATGGTG--CGC-G-A\n",
            "||  .|| ||  | | | |\n",
            "AT--TTG-TGCTC-CTGGA\n",
            "  Score=10\n",
            "\n",
            "ATGCATGGTG--CGC-G-A\n",
            "|| . || ||  | | | |\n",
            "AT-T-TG-TGCTC-CTGGA\n",
            "  Score=10\n",
            "\n",
            "ATGCATGGTG--CGC-G-A\n",
            "||.  || ||  | | | |\n",
            "ATT--TG-TGCTC-CTGGA\n",
            "  Score=10\n",
            "\n",
            "A-TGCATGGTG--CGC-G-A\n",
            "| |   || ||  | | | |\n",
            "ATT---TG-TGCTC-CTGGA\n",
            "  Score=10\n",
            "\n",
            "ATGCAT-G-G-TGCGC-G-A\n",
            "||   | | | | | | | |\n",
            "AT---TTGTGCT-C-CTGGA\n",
            "  Score=10\n",
            "\n",
            "ATGCA-TG-G-TGCGC-G-A\n",
            "||    || | | | | | |\n",
            "AT---TTGTGCT-C-CTGGA\n",
            "  Score=10\n",
            "\n",
            "ATGCATG-G-TGCGC-G-A\n",
            "||  .|| | | | | | |\n",
            "AT--TTGTGCT-C-CTGGA\n",
            "  Score=10\n",
            "\n",
            "ATGCATG-G-TGCGC-G-A\n",
            "|| . || | | | | | |\n",
            "AT-T-TGTGCT-C-CTGGA\n",
            "  Score=10\n",
            "\n",
            "ATGCATG-G-TGCGC-G-A\n",
            "||.  || | | | | | |\n",
            "ATT--TGTGCT-C-CTGGA\n",
            "  Score=10\n",
            "\n",
            "A-TGCATG-G-TGCGC-G-A\n",
            "| |   || | | | | | |\n",
            "ATT---TGTGCT-C-CTGGA\n",
            "  Score=10\n",
            "\n",
            "AT--GCATGG-TGCGC-G-A\n",
            "||  |  | | | | | | |\n",
            "ATTTG--T-GCT-C-CTGGA\n",
            "  Score=10\n",
            "\n",
            "A-T-GCATGG-TGCGC-G-A\n",
            "| | |  | | | | | | |\n",
            "ATTTG--T-GCT-C-CTGGA\n",
            "  Score=10\n",
            "\n",
            "A--TGCATGG-TGCGC-G-A\n",
            "|  ||  | | | | | | |\n",
            "ATTTG--T-GCT-C-CTGGA\n",
            "  Score=10\n",
            "\n",
            "AT--GCATGG-TGCGC-G-A\n",
            "||  |  ||  | | | | |\n",
            "ATTTG--TG-CT-C-CTGGA\n",
            "  Score=10\n",
            "\n",
            "A-T-GCATGG-TGCGC-G-A\n",
            "| | |  ||  | | | | |\n",
            "ATTTG--TG-CT-C-CTGGA\n",
            "  Score=10\n",
            "\n",
            "A--TGCATGG-TGCGC-G-A\n",
            "|  ||  ||  | | | | |\n",
            "ATTTG--TG-CT-C-CTGGA\n",
            "  Score=10\n",
            "\n",
            "AT--GCATGGTGCGC-G-A\n",
            "||  |  ||.| | | | |\n",
            "ATTTG--TGCT-C-CTGGA\n",
            "  Score=10\n",
            "\n",
            "A-T-GCATGGTGCGC-G-A\n",
            "| | |  ||.| | | | |\n",
            "ATTTG--TGCT-C-CTGGA\n",
            "  Score=10\n",
            "\n",
            "A--TGCATGGTGCGC-G-A\n",
            "|  ||  ||.| | | | |\n",
            "ATTTG--TGCT-C-CTGGA\n",
            "  Score=10\n",
            "\n",
            "ATGCATG-GTGCG-C---GA\n",
            "||   |  ||||  |   ||\n",
            "AT---T-TGTGC-TCCTGGA\n",
            "  Score=10\n",
            "\n",
            "ATGCATGGTGCG-C---GA\n",
            "||   |.||||  |   ||\n",
            "AT---TTGTGC-TCCTGGA\n",
            "  Score=10\n",
            "\n",
            "ATGCA-TGGTGCG-C---GA\n",
            "||    | ||||  |   ||\n",
            "AT---TT-GTGC-TCCTGGA\n",
            "  Score=10\n",
            "\n",
            "ATGCATGGTGCG-C---GA\n",
            "||  .| ||||  |   ||\n",
            "AT--TT-GTGC-TCCTGGA\n",
            "  Score=10\n",
            "\n",
            "ATGCATGGTGCG-C---GA\n",
            "|| . | ||||  |   ||\n",
            "AT-T-T-GTGC-TCCTGGA\n",
            "  Score=10\n",
            "\n",
            "ATGCATGGTGCG-C---GA\n",
            "||.  | ||||  |   ||\n",
            "ATT--T-GTGC-TCCTGGA\n",
            "  Score=10\n",
            "\n",
            "A-TGCATGGTGCG-C---GA\n",
            "| |   | ||||  |   ||\n",
            "ATT---T-GTGC-TCCTGGA\n",
            "  Score=10\n",
            "\n",
            "ATGCAT-GGTGCG-C---GA\n",
            "||   | | |||  |   ||\n",
            "AT---TTG-TGC-TCCTGGA\n",
            "  Score=10\n",
            "\n",
            "ATGCA-TGGTGCG-C---GA\n",
            "||    || |||  |   ||\n",
            "AT---TTG-TGC-TCCTGGA\n",
            "  Score=10\n",
            "\n",
            "ATGCATGGTGCG-C---GA\n",
            "||  .|| |||  |   ||\n",
            "AT--TTG-TGC-TCCTGGA\n",
            "  Score=10\n",
            "\n",
            "ATGCATGGTGCG-C---GA\n",
            "|| . || |||  |   ||\n",
            "AT-T-TG-TGC-TCCTGGA\n",
            "  Score=10\n",
            "\n",
            "ATGCATGGTGCG-C---GA\n",
            "||.  || |||  |   ||\n",
            "ATT--TG-TGC-TCCTGGA\n",
            "  Score=10\n",
            "\n",
            "A-TGCATGGTGCG-C---GA\n",
            "| |   || |||  |   ||\n",
            "ATT---TG-TGC-TCCTGGA\n",
            "  Score=10\n",
            "\n",
            "ATGCATG-GTGCGC---GA\n",
            "||   |  ||||.|   ||\n",
            "AT---T-TGTGCTCCTGGA\n",
            "  Score=10\n",
            "\n",
            "ATGCATGGTGCGC---GA\n",
            "||   |.||||.|   ||\n",
            "AT---TTGTGCTCCTGGA\n",
            "  Score=10\n",
            "\n",
            "ATGCA-TGGTGCGC---GA\n",
            "||    | ||||.|   ||\n",
            "AT---TT-GTGCTCCTGGA\n",
            "  Score=10\n",
            "\n",
            "ATGCATGGTGCGC---GA\n",
            "||  .| ||||.|   ||\n",
            "AT--TT-GTGCTCCTGGA\n",
            "  Score=10\n",
            "\n",
            "ATGCATGGTGCGC---GA\n",
            "|| . | ||||.|   ||\n",
            "AT-T-T-GTGCTCCTGGA\n",
            "  Score=10\n",
            "\n",
            "ATGCATGGTGCGC---GA\n",
            "||.  | ||||.|   ||\n",
            "ATT--T-GTGCTCCTGGA\n",
            "  Score=10\n",
            "\n",
            "A-TGCATGGTGCGC---GA\n",
            "| |   | ||||.|   ||\n",
            "ATT---T-GTGCTCCTGGA\n",
            "  Score=10\n",
            "\n",
            "ATGCAT-GGTGCGC---GA\n",
            "||   | | |||.|   ||\n",
            "AT---TTG-TGCTCCTGGA\n",
            "  Score=10\n",
            "\n",
            "ATGCA-TGGTGCGC---GA\n",
            "||    || |||.|   ||\n",
            "AT---TTG-TGCTCCTGGA\n",
            "  Score=10\n",
            "\n",
            "ATGCATGGTGCGC---GA\n",
            "||  .|| |||.|   ||\n",
            "AT--TTG-TGCTCCTGGA\n",
            "  Score=10\n",
            "\n",
            "ATGCATGGTGCGC---GA\n",
            "|| . || |||.|   ||\n",
            "AT-T-TG-TGCTCCTGGA\n",
            "  Score=10\n",
            "\n",
            "ATGCATGGTGCGC---GA\n",
            "||.  || |||.|   ||\n",
            "ATT--TG-TGCTCCTGGA\n",
            "  Score=10\n",
            "\n",
            "A-TGCATGGTGCGC---GA\n",
            "| |   || |||.|   ||\n",
            "ATT---TG-TGCTCCTGGA\n",
            "  Score=10\n",
            "\n",
            "ATGCATG-GTGCG--C--GA\n",
            "||   |  ||||   |  ||\n",
            "AT---T-TGTGC-TCCTGGA\n",
            "  Score=10\n",
            "\n",
            "ATGCATGGTGCG--C--GA\n",
            "||   |.||||   |  ||\n",
            "AT---TTGTGC-TCCTGGA\n",
            "  Score=10\n",
            "\n",
            "ATGCA-TGGTGCG--C--GA\n",
            "||    | ||||   |  ||\n",
            "AT---TT-GTGC-TCCTGGA\n",
            "  Score=10\n",
            "\n",
            "ATGCATGGTGCG--C--GA\n",
            "||  .| ||||   |  ||\n",
            "AT--TT-GTGC-TCCTGGA\n",
            "  Score=10\n",
            "\n",
            "ATGCATGGTGCG--C--GA\n",
            "|| . | ||||   |  ||\n",
            "AT-T-T-GTGC-TCCTGGA\n",
            "  Score=10\n",
            "\n",
            "ATGCATGGTGCG--C--GA\n",
            "||.  | ||||   |  ||\n",
            "ATT--T-GTGC-TCCTGGA\n",
            "  Score=10\n",
            "\n",
            "A-TGCATGGTGCG--C--GA\n",
            "| |   | ||||   |  ||\n",
            "ATT---T-GTGC-TCCTGGA\n",
            "  Score=10\n",
            "\n",
            "ATGCAT-GGTGCG--C--GA\n",
            "||   | | |||   |  ||\n",
            "AT---TTG-TGC-TCCTGGA\n",
            "  Score=10\n",
            "\n",
            "ATGCA-TGGTGCG--C--GA\n",
            "||    || |||   |  ||\n",
            "AT---TTG-TGC-TCCTGGA\n",
            "  Score=10\n",
            "\n",
            "ATGCATGGTGCG--C--GA\n",
            "||  .|| |||   |  ||\n",
            "AT--TTG-TGC-TCCTGGA\n",
            "  Score=10\n",
            "\n",
            "ATGCATGGTGCG--C--GA\n",
            "|| . || |||   |  ||\n",
            "AT-T-TG-TGC-TCCTGGA\n",
            "  Score=10\n",
            "\n",
            "ATGCATGGTGCG--C--GA\n",
            "||.  || |||   |  ||\n",
            "ATT--TG-TGC-TCCTGGA\n",
            "  Score=10\n",
            "\n",
            "A-TGCATGGTGCG--C--GA\n",
            "| |   || |||   |  ||\n",
            "ATT---TG-TGC-TCCTGGA\n",
            "  Score=10\n",
            "\n",
            "ATGCATG-GTGCG-C--GA\n",
            "||   |  ||||. |  ||\n",
            "AT---T-TGTGCTCCTGGA\n",
            "  Score=10\n",
            "\n",
            "ATGCATGGTGCG-C--GA\n",
            "||   |.||||. |  ||\n",
            "AT---TTGTGCTCCTGGA\n",
            "  Score=10\n",
            "\n",
            "ATGCA-TGGTGCG-C--GA\n",
            "||    | ||||. |  ||\n",
            "AT---TT-GTGCTCCTGGA\n",
            "  Score=10\n",
            "\n",
            "ATGCATGGTGCG-C--GA\n",
            "||  .| ||||. |  ||\n",
            "AT--TT-GTGCTCCTGGA\n",
            "  Score=10\n",
            "\n",
            "ATGCATGGTGCG-C--GA\n",
            "|| . | ||||. |  ||\n",
            "AT-T-T-GTGCTCCTGGA\n",
            "  Score=10\n",
            "\n",
            "ATGCATGGTGCG-C--GA\n",
            "||.  | ||||. |  ||\n",
            "ATT--T-GTGCTCCTGGA\n",
            "  Score=10\n",
            "\n",
            "A-TGCATGGTGCG-C--GA\n",
            "| |   | ||||. |  ||\n",
            "ATT---T-GTGCTCCTGGA\n",
            "  Score=10\n",
            "\n",
            "ATGCAT-GGTGCG-C--GA\n",
            "||   | | |||. |  ||\n",
            "AT---TTG-TGCTCCTGGA\n",
            "  Score=10\n",
            "\n",
            "ATGCA-TGGTGCG-C--GA\n",
            "||    || |||. |  ||\n",
            "AT---TTG-TGCTCCTGGA\n",
            "  Score=10\n",
            "\n",
            "ATGCATGGTGCG-C--GA\n",
            "||  .|| |||. |  ||\n",
            "AT--TTG-TGCTCCTGGA\n",
            "  Score=10\n",
            "\n",
            "ATGCATGGTGCG-C--GA\n",
            "|| . || |||. |  ||\n",
            "AT-T-TG-TGCTCCTGGA\n",
            "  Score=10\n",
            "\n",
            "ATGCATGGTGCG-C--GA\n",
            "||.  || |||. |  ||\n",
            "ATT--TG-TGCTCCTGGA\n",
            "  Score=10\n",
            "\n",
            "A-TGCATGGTGCG-C--GA\n",
            "| |   || |||. |  ||\n",
            "ATT---TG-TGCTCCTGGA\n",
            "  Score=10\n",
            "\n",
            "ATGCATG-GTGC-GC--GA\n",
            "||   |  |||| .|  ||\n",
            "AT---T-TGTGCTCCTGGA\n",
            "  Score=10\n",
            "\n",
            "ATGCATGGTGC-GC--GA\n",
            "||   |.|||| .|  ||\n",
            "AT---TTGTGCTCCTGGA\n",
            "  Score=10\n",
            "\n",
            "ATGCA-TGGTGC-GC--GA\n",
            "||    | |||| .|  ||\n",
            "AT---TT-GTGCTCCTGGA\n",
            "  Score=10\n",
            "\n",
            "ATGCATGGTGC-GC--GA\n",
            "||  .| |||| .|  ||\n",
            "AT--TT-GTGCTCCTGGA\n",
            "  Score=10\n",
            "\n",
            "ATGCATGGTGC-GC--GA\n",
            "|| . | |||| .|  ||\n",
            "AT-T-T-GTGCTCCTGGA\n",
            "  Score=10\n",
            "\n",
            "ATGCATGGTGC-GC--GA\n",
            "||.  | |||| .|  ||\n",
            "ATT--T-GTGCTCCTGGA\n",
            "  Score=10\n",
            "\n",
            "A-TGCATGGTGC-GC--GA\n",
            "| |   | |||| .|  ||\n",
            "ATT---T-GTGCTCCTGGA\n",
            "  Score=10\n",
            "\n",
            "ATGCAT-GGTGC-GC--GA\n",
            "||   | | ||| .|  ||\n",
            "AT---TTG-TGCTCCTGGA\n",
            "  Score=10\n",
            "\n",
            "ATGCA-TGGTGC-GC--GA\n",
            "||    || ||| .|  ||\n",
            "AT---TTG-TGCTCCTGGA\n",
            "  Score=10\n",
            "\n",
            "ATGCATGGTGC-GC--GA\n",
            "||  .|| ||| .|  ||\n",
            "AT--TTG-TGCTCCTGGA\n",
            "  Score=10\n",
            "\n",
            "ATGCATGGTGC-GC--GA\n",
            "|| . || ||| .|  ||\n",
            "AT-T-TG-TGCTCCTGGA\n",
            "  Score=10\n",
            "\n",
            "ATGCATGGTGC-GC--GA\n",
            "||.  || ||| .|  ||\n",
            "ATT--TG-TGCTCCTGGA\n",
            "  Score=10\n",
            "\n",
            "A-TGCATGGTGC-GC--GA\n",
            "| |   || ||| .|  ||\n",
            "ATT---TG-TGCTCCTGGA\n",
            "  Score=10\n",
            "\n",
            "ATGCATG-GTG--CGC--GA\n",
            "||   |  |||  | |  ||\n",
            "AT---T-TGTGCTC-CTGGA\n",
            "  Score=10\n",
            "\n",
            "ATGCATGGTG--CGC--GA\n",
            "||   |.|||  | |  ||\n",
            "AT---TTGTGCTC-CTGGA\n",
            "  Score=10\n",
            "\n",
            "ATGCA-TGGTG--CGC--GA\n",
            "||    | |||  | |  ||\n",
            "AT---TT-GTGCTC-CTGGA\n",
            "  Score=10\n",
            "\n",
            "ATGCATGGTG--CGC--GA\n",
            "||  .| |||  | |  ||\n",
            "AT--TT-GTGCTC-CTGGA\n",
            "  Score=10\n",
            "\n",
            "ATGCATGGTG--CGC--GA\n",
            "|| . | |||  | |  ||\n",
            "AT-T-T-GTGCTC-CTGGA\n",
            "  Score=10\n",
            "\n",
            "ATGCATGGTG--CGC--GA\n",
            "||.  | |||  | |  ||\n",
            "ATT--T-GTGCTC-CTGGA\n",
            "  Score=10\n",
            "\n",
            "A-TGCATGGTG--CGC--GA\n",
            "| |   | |||  | |  ||\n",
            "ATT---T-GTGCTC-CTGGA\n",
            "  Score=10\n",
            "\n",
            "ATGCAT-GGTG--CGC--GA\n",
            "||   | | ||  | |  ||\n",
            "AT---TTG-TGCTC-CTGGA\n",
            "  Score=10\n",
            "\n",
            "ATGCA-TGGTG--CGC--GA\n",
            "||    || ||  | |  ||\n",
            "AT---TTG-TGCTC-CTGGA\n",
            "  Score=10\n",
            "\n",
            "ATGCATGGTG--CGC--GA\n",
            "||  .|| ||  | |  ||\n",
            "AT--TTG-TGCTC-CTGGA\n",
            "  Score=10\n",
            "\n",
            "ATGCATGGTG--CGC--GA\n",
            "|| . || ||  | |  ||\n",
            "AT-T-TG-TGCTC-CTGGA\n",
            "  Score=10\n",
            "\n",
            "ATGCATGGTG--CGC--GA\n",
            "||.  || ||  | |  ||\n",
            "ATT--TG-TGCTC-CTGGA\n",
            "  Score=10\n",
            "\n",
            "A-TGCATGGTG--CGC--GA\n",
            "| |   || ||  | |  ||\n",
            "ATT---TG-TGCTC-CTGGA\n",
            "  Score=10\n",
            "\n",
            "ATGCAT-G-G-TGCGC--GA\n",
            "||   | | | | | |  ||\n",
            "AT---TTGTGCT-C-CTGGA\n",
            "  Score=10\n",
            "\n",
            "ATGCA-TG-G-TGCGC--GA\n",
            "||    || | | | |  ||\n",
            "AT---TTGTGCT-C-CTGGA\n",
            "  Score=10\n",
            "\n",
            "ATGCATG-G-TGCGC--GA\n",
            "||  .|| | | | |  ||\n",
            "AT--TTGTGCT-C-CTGGA\n",
            "  Score=10\n",
            "\n",
            "ATGCATG-G-TGCGC--GA\n",
            "|| . || | | | |  ||\n",
            "AT-T-TGTGCT-C-CTGGA\n",
            "  Score=10\n",
            "\n",
            "ATGCATG-G-TGCGC--GA\n",
            "||.  || | | | |  ||\n",
            "ATT--TGTGCT-C-CTGGA\n",
            "  Score=10\n",
            "\n",
            "A-TGCATG-G-TGCGC--GA\n",
            "| |   || | | | |  ||\n",
            "ATT---TGTGCT-C-CTGGA\n",
            "  Score=10\n",
            "\n",
            "AT--GCATGG-TGCGC--GA\n",
            "||  |  | | | | |  ||\n",
            "ATTTG--T-GCT-C-CTGGA\n",
            "  Score=10\n",
            "\n",
            "A-T-GCATGG-TGCGC--GA\n",
            "| | |  | | | | |  ||\n",
            "ATTTG--T-GCT-C-CTGGA\n",
            "  Score=10\n",
            "\n",
            "A--TGCATGG-TGCGC--GA\n",
            "|  ||  | | | | |  ||\n",
            "ATTTG--T-GCT-C-CTGGA\n",
            "  Score=10\n",
            "\n",
            "AT--GCATGG-TGCGC--GA\n",
            "||  |  ||  | | |  ||\n",
            "ATTTG--TG-CT-C-CTGGA\n",
            "  Score=10\n",
            "\n",
            "A-T-GCATGG-TGCGC--GA\n",
            "| | |  ||  | | |  ||\n",
            "ATTTG--TG-CT-C-CTGGA\n",
            "  Score=10\n",
            "\n",
            "A--TGCATGG-TGCGC--GA\n",
            "|  ||  ||  | | |  ||\n",
            "ATTTG--TG-CT-C-CTGGA\n",
            "  Score=10\n",
            "\n",
            "AT--GCATGGTGCGC--GA\n",
            "||  |  ||.| | |  ||\n",
            "ATTTG--TGCT-C-CTGGA\n",
            "  Score=10\n",
            "\n",
            "A-T-GCATGGTGCGC--GA\n",
            "| | |  ||.| | |  ||\n",
            "ATTTG--TGCT-C-CTGGA\n",
            "  Score=10\n",
            "\n",
            "A--TGCATGGTGCGC--GA\n",
            "|  ||  ||.| | |  ||\n",
            "ATTTG--TGCT-C-CTGGA\n",
            "  Score=10\n",
            "\n",
            "ATGCATG-GTGC----GCGA\n",
            "||   |  ||||    | ||\n",
            "AT---T-TGTGCTCCTG-GA\n",
            "  Score=10\n",
            "\n",
            "ATGCATGGTGC----GCGA\n",
            "||   |.||||    | ||\n",
            "AT---TTGTGCTCCTG-GA\n",
            "  Score=10\n",
            "\n",
            "ATGCA-TGGTGC----GCGA\n",
            "||    | ||||    | ||\n",
            "AT---TT-GTGCTCCTG-GA\n",
            "  Score=10\n",
            "\n",
            "ATGCATGGTGC----GCGA\n",
            "||  .| ||||    | ||\n",
            "AT--TT-GTGCTCCTG-GA\n",
            "  Score=10\n",
            "\n",
            "ATGCATGGTGC----GCGA\n",
            "|| . | ||||    | ||\n",
            "AT-T-T-GTGCTCCTG-GA\n",
            "  Score=10\n",
            "\n",
            "ATGCATGGTGC----GCGA\n",
            "||.  | ||||    | ||\n",
            "ATT--T-GTGCTCCTG-GA\n",
            "  Score=10\n",
            "\n",
            "A-TGCATGGTGC----GCGA\n",
            "| |   | ||||    | ||\n",
            "ATT---T-GTGCTCCTG-GA\n",
            "  Score=10\n",
            "\n",
            "ATGCAT-GGTGC----GCGA\n",
            "||   | | |||    | ||\n",
            "AT---TTG-TGCTCCTG-GA\n",
            "  Score=10\n",
            "\n",
            "ATGCA-TGGTGC----GCGA\n",
            "||    || |||    | ||\n",
            "AT---TTG-TGCTCCTG-GA\n",
            "  Score=10\n",
            "\n",
            "ATGCATGGTGC----GCGA\n",
            "||  .|| |||    | ||\n",
            "AT--TTG-TGCTCCTG-GA\n",
            "  Score=10\n",
            "\n",
            "ATGCATGGTGC----GCGA\n",
            "|| . || |||    | ||\n",
            "AT-T-TG-TGCTCCTG-GA\n",
            "  Score=10\n",
            "\n",
            "ATGCATGGTGC----GCGA\n",
            "||.  || |||    | ||\n",
            "ATT--TG-TGCTCCTG-GA\n",
            "  Score=10\n",
            "\n",
            "A-TGCATGGTGC----GCGA\n",
            "| |   || |||    | ||\n",
            "ATT---TG-TGCTCCTG-GA\n",
            "  Score=10\n",
            "\n",
            "ATGCATG-GTG--C--GCGA\n",
            "||   |  |||  |  | ||\n",
            "AT---T-TGTGCTCCTG-GA\n",
            "  Score=10\n",
            "\n",
            "ATGCATGGTG--C--GCGA\n",
            "||   |.|||  |  | ||\n",
            "AT---TTGTGCTCCTG-GA\n",
            "  Score=10\n",
            "\n",
            "ATGCA-TGGTG--C--GCGA\n",
            "||    | |||  |  | ||\n",
            "AT---TT-GTGCTCCTG-GA\n",
            "  Score=10\n",
            "\n",
            "ATGCATGGTG--C--GCGA\n",
            "||  .| |||  |  | ||\n",
            "AT--TT-GTGCTCCTG-GA\n",
            "  Score=10\n",
            "\n",
            "ATGCATGGTG--C--GCGA\n",
            "|| . | |||  |  | ||\n",
            "AT-T-T-GTGCTCCTG-GA\n",
            "  Score=10\n",
            "\n",
            "ATGCATGGTG--C--GCGA\n",
            "||.  | |||  |  | ||\n",
            "ATT--T-GTGCTCCTG-GA\n",
            "  Score=10\n",
            "\n",
            "A-TGCATGGTG--C--GCGA\n",
            "| |   | |||  |  | ||\n",
            "ATT---T-GTGCTCCTG-GA\n",
            "  Score=10\n",
            "\n",
            "ATGCAT-GGTG--C--GCGA\n",
            "||   | | ||  |  | ||\n",
            "AT---TTG-TGCTCCTG-GA\n",
            "  Score=10\n",
            "\n",
            "ATGCA-TGGTG--C--GCGA\n",
            "||    || ||  |  | ||\n",
            "AT---TTG-TGCTCCTG-GA\n",
            "  Score=10\n",
            "\n",
            "ATGCATGGTG--C--GCGA\n",
            "||  .|| ||  |  | ||\n",
            "AT--TTG-TGCTCCTG-GA\n",
            "  Score=10\n",
            "\n",
            "ATGCATGGTG--C--GCGA\n",
            "|| . || ||  |  | ||\n",
            "AT-T-TG-TGCTCCTG-GA\n",
            "  Score=10\n",
            "\n",
            "ATGCATGGTG--C--GCGA\n",
            "||.  || ||  |  | ||\n",
            "ATT--TG-TGCTCCTG-GA\n",
            "  Score=10\n",
            "\n",
            "A-TGCATGGTG--C--GCGA\n",
            "| |   || ||  |  | ||\n",
            "ATT---TG-TGCTCCTG-GA\n",
            "  Score=10\n",
            "\n",
            "ATGCAT-G-G-TGC--GCGA\n",
            "||   | | | | |  | ||\n",
            "AT---TTGTGCT-CCTG-GA\n",
            "  Score=10\n",
            "\n",
            "ATGCA-TG-G-TGC--GCGA\n",
            "||    || | | |  | ||\n",
            "AT---TTGTGCT-CCTG-GA\n",
            "  Score=10\n",
            "\n",
            "ATGCATG-G-TGC--GCGA\n",
            "||  .|| | | |  | ||\n",
            "AT--TTGTGCT-CCTG-GA\n",
            "  Score=10\n",
            "\n",
            "ATGCATG-G-TGC--GCGA\n",
            "|| . || | | |  | ||\n",
            "AT-T-TGTGCT-CCTG-GA\n",
            "  Score=10\n",
            "\n",
            "ATGCATG-G-TGC--GCGA\n",
            "||.  || | | |  | ||\n",
            "ATT--TGTGCT-CCTG-GA\n",
            "  Score=10\n",
            "\n",
            "A-TGCATG-G-TGC--GCGA\n",
            "| |   || | | |  | ||\n",
            "ATT---TGTGCT-CCTG-GA\n",
            "  Score=10\n",
            "\n",
            "AT--GCATGG-TGC--GCGA\n",
            "||  |  | | | |  | ||\n",
            "ATTTG--T-GCT-CCTG-GA\n",
            "  Score=10\n",
            "\n",
            "A-T-GCATGG-TGC--GCGA\n",
            "| | |  | | | |  | ||\n",
            "ATTTG--T-GCT-CCTG-GA\n",
            "  Score=10\n",
            "\n",
            "A--TGCATGG-TGC--GCGA\n",
            "|  ||  | | | |  | ||\n",
            "ATTTG--T-GCT-CCTG-GA\n",
            "  Score=10\n",
            "\n",
            "AT--GCATGG-TGC--GCGA\n",
            "||  |  ||  | |  | ||\n",
            "ATTTG--TG-CT-CCTG-GA\n",
            "  Score=10\n",
            "\n",
            "A-T-GCATGG-TGC--GCGA\n",
            "| | |  ||  | |  | ||\n",
            "ATTTG--TG-CT-CCTG-GA\n",
            "  Score=10\n",
            "\n",
            "A--TGCATGG-TGC--GCGA\n",
            "|  ||  ||  | |  | ||\n",
            "ATTTG--TG-CT-CCTG-GA\n",
            "  Score=10\n",
            "\n",
            "AT--GCATGGTGC--GCGA\n",
            "||  |  ||.| |  | ||\n",
            "ATTTG--TGCT-CCTG-GA\n",
            "  Score=10\n",
            "\n",
            "A-T-GCATGGTGC--GCGA\n",
            "| | |  ||.| |  | ||\n",
            "ATTTG--TGCT-CCTG-GA\n",
            "  Score=10\n",
            "\n",
            "A--TGCATGGTGC--GCGA\n",
            "|  ||  ||.| |  | ||\n",
            "ATTTG--TGCT-CCTG-GA\n",
            "  Score=10\n",
            "\n"
          ]
        }
      ]
    },
    {
      "cell_type": "code",
      "source": [
        "# Choose global alignment because the two sequences has the same length\n",
        "seqAlign = pairwise2.align.globalxx(sequence1, sequence2, one_alignment_only = True, score_only = True)"
      ],
      "metadata": {
        "id": "5RrU9vmHn1zH"
      },
      "execution_count": 39,
      "outputs": []
    },
    {
      "cell_type": "code",
      "source": [
        "seqAlign"
      ],
      "metadata": {
        "colab": {
          "base_uri": "https://localhost:8080/"
        },
        "id": "pVm4J71coztv",
        "outputId": "0b418b19-b4a4-40d6-ccee-70bacd960b2c"
      },
      "execution_count": 40,
      "outputs": [
        {
          "output_type": "execute_result",
          "data": {
            "text/plain": [
              "10.0"
            ]
          },
          "metadata": {},
          "execution_count": 40
        }
      ]
    },
    {
      "cell_type": "code",
      "source": [
        "print(seqAlign / len(sequence1) * 100)"
      ],
      "metadata": {
        "colab": {
          "base_uri": "https://localhost:8080/"
        },
        "id": "MOAsl8PboWNh",
        "outputId": "408428f7-81af-4cd9-8409-874d2bb6a155"
      },
      "execution_count": 41,
      "outputs": [
        {
          "output_type": "stream",
          "name": "stdout",
          "text": [
            "66.66666666666666\n"
          ]
        }
      ]
    },
    {
      "cell_type": "code",
      "source": [
        "def hamming_distance(lhs, rhs):\n",
        "  return len([(x,y) for x,y in zip(lhs, rhs) if x != y])\n",
        "\n",
        "print(hamming_distance(sequence1, sequence2))"
      ],
      "metadata": {
        "colab": {
          "base_uri": "https://localhost:8080/"
        },
        "id": "i-3tF8Vmpebs",
        "outputId": "f45c771c-8e04-4507-8d90-4af4ac752150"
      },
      "execution_count": 42,
      "outputs": [
        {
          "output_type": "stream",
          "name": "stdout",
          "text": [
            "7\n"
          ]
        }
      ]
    },
    {
      "cell_type": "code",
      "source": [
        "!pip install python-Levenshtein\n",
        "from Levenshtein import distance\n",
        "\n",
        "distance(str(sequence1), str(sequence2))"
      ],
      "metadata": {
        "colab": {
          "base_uri": "https://localhost:8080/"
        },
        "id": "l4sqK2GGp1Ge",
        "outputId": "dadad437-6443-468d-fcab-c081a5989075"
      },
      "execution_count": 43,
      "outputs": [
        {
          "output_type": "stream",
          "name": "stdout",
          "text": [
            "Looking in indexes: https://pypi.org/simple, https://us-python.pkg.dev/colab-wheels/public/simple/\n",
            "Requirement already satisfied: python-Levenshtein in /usr/local/lib/python3.8/dist-packages (0.20.9)\n",
            "Requirement already satisfied: Levenshtein==0.20.9 in /usr/local/lib/python3.8/dist-packages (from python-Levenshtein) (0.20.9)\n",
            "Requirement already satisfied: rapidfuzz<3.0.0,>=2.3.0 in /usr/local/lib/python3.8/dist-packages (from Levenshtein==0.20.9->python-Levenshtein) (2.13.7)\n"
          ]
        },
        {
          "output_type": "execute_result",
          "data": {
            "text/plain": [
              "7"
            ]
          },
          "metadata": {},
          "execution_count": 43
        }
      ]
    },
    {
      "cell_type": "code",
      "source": [
        "import matplotlib.pyplot as plt\n",
        "import numpy as np\n",
        "\n",
        "def dotplotx(seq1, seq2):\n",
        "  plt.imshow(np.array(makeMatrix(seq1, seq2, 1)))\n",
        "  # on x-axis list all sequences of seq 2\n",
        "  xt = plt.xticks(np.arange(len(list(seq2))), list(seq2))\n",
        "  # on y-axis list all sequences of seq 1\n",
        "  yt = plt.yticks(np.arange(len(list(seq1))), list(seq1))\n",
        "  plt.show()\n",
        "\n",
        "dotplotx(sequence1, sequence2)"
      ],
      "metadata": {
        "colab": {
          "base_uri": "https://localhost:8080/",
          "height": 265
        },
        "id": "qKAMKMtXqZzU",
        "outputId": "dcc7471d-39c3-486e-f4fd-ad3092d8c8e8"
      },
      "execution_count": 44,
      "outputs": [
        {
          "output_type": "display_data",
          "data": {
            "text/plain": [
              "<Figure size 432x288 with 1 Axes>"
            ],
            "image/png": "[encoded data removed]"
          },
          "metadata": {
            "needs_background": "light"
          }
        }
      ]
    },
    {
      "cell_type": "markdown",
      "source": [
        "BLUEJACK CASE"
      ],
      "metadata": {
        "id": "ae8T-yDJnVfs"
      }
    },
    {
      "cell_type": "code",
      "source": [
        "!pip install biopython"
      ],
      "metadata": {
        "colab": {
          "base_uri": "https://localhost:8080/"
        },
        "id": "223wC5rPq91T",
        "outputId": "b02a286f-4840-4785-8a20-f2c483b49877"
      },
      "execution_count": 45,
      "outputs": [
        {
          "output_type": "stream",
          "name": "stdout",
          "text": [
            "Looking in indexes: https://pypi.org/simple, https://us-python.pkg.dev/colab-wheels/public/simple/\n",
            "Requirement already satisfied: biopython in /usr/local/lib/python3.8/dist-packages (1.81)\n",
            "Requirement already satisfied: numpy in /usr/local/lib/python3.8/dist-packages (from biopython) (1.22.4)\n"
          ]
        }
      ]
    },
    {
      "cell_type": "code",
      "source": [
        "import Bio\n",
        "from Bio.Seq import Seq"
      ],
      "metadata": {
        "id": "gqFz-j7frUAa"
      },
      "execution_count": 46,
      "outputs": []
    },
    {
      "cell_type": "code",
      "source": [
        "seqA = Seq('AAGCTTAGCTAGAGCAGTCAGCTAGCTAGCT')\n",
        "seqB = Seq('TCTGAAGCTAGCTAGTGCATAGCTAGCTAGC')\n",
        "\n",
        "print(len(seqA) == len(seqB))\n",
        "print(len(seqA))"
      ],
      "metadata": {
        "colab": {
          "base_uri": "https://localhost:8080/"
        },
        "id": "2-11Y6zmrY43",
        "outputId": "24b8fb2a-c926-467a-8c46-05e39e78805c"
      },
      "execution_count": 47,
      "outputs": [
        {
          "output_type": "stream",
          "name": "stdout",
          "text": [
            "True\n",
            "31\n"
          ]
        }
      ]
    },
    {
      "cell_type": "code",
      "source": [
        "from Bio import pairwise2\n",
        "from Bio.pairwise2 import format_alignment"
      ],
      "metadata": {
        "id": "t4Gy-wG0rupT"
      },
      "execution_count": 48,
      "outputs": []
    },
    {
      "cell_type": "code",
      "source": [
        "seqLocAlign = pairwise2.align.localxx(seqA, seqB)\n",
        "\n",
        "for a in seqLocAlign:\n",
        "  print(format_alignment(*a))"
      ],
      "metadata": {
        "colab": {
          "base_uri": "https://localhost:8080/"
        },
        "id": "UeP3SLnuseVh",
        "outputId": "93c6a503-e456-40b2-c894-60e67eec1e5a"
      },
      "execution_count": 49,
      "outputs": [
        {
          "output_type": "stream",
          "name": "stdout",
          "text": [
            "1 AAGCTTAGCTAGA-GCAGTCAGCTAGCTAGC\n",
            "  |||| |||||||  ||| | |||||||||||\n",
            "5 AAGC-TAGCTAG-TGCA-T-AGCTAGCTAGC\n",
            "  Score=26\n",
            "\n",
            "1 AAGCTTAGCTAGA-GCAGTCAGCTAGCTAGC\n",
            "  ||||| ||||||  ||| | |||||||||||\n",
            "5 AAGCT-AGCTAG-TGCA-T-AGCTAGCTAGC\n",
            "  Score=26\n",
            "\n",
            "1 AAGCTTAGCTAGAGCAGTCAGCTAGCTAGC\n",
            "  |||| |||||||.||| | |||||||||||\n",
            "5 AAGC-TAGCTAGTGCA-T-AGCTAGCTAGC\n",
            "  Score=26\n",
            "\n",
            "1 AAGCTTAGCTAGAGCAGTCAGCTAGCTAGC\n",
            "  ||||| ||||||.||| | |||||||||||\n",
            "5 AAGCT-AGCTAGTGCA-T-AGCTAGCTAGC\n",
            "  Score=26\n",
            "\n"
          ]
        }
      ]
    },
    {
      "cell_type": "code",
      "source": [
        "seqLocAlign = pairwise2.align.localxx(seqA, seqB, one_alignment_only = True, score_only = True)"
      ],
      "metadata": {
        "id": "it6jhm65r-nC"
      },
      "execution_count": 50,
      "outputs": []
    },
    {
      "cell_type": "code",
      "source": [
        "seqLocAlign"
      ],
      "metadata": {
        "colab": {
          "base_uri": "https://localhost:8080/"
        },
        "id": "3qhf0bTmsWTX",
        "outputId": "ca78db1e-70ab-45c6-9776-237d24b947e1"
      },
      "execution_count": 51,
      "outputs": [
        {
          "output_type": "execute_result",
          "data": {
            "text/plain": [
              "26.0"
            ]
          },
          "metadata": {},
          "execution_count": 51
        }
      ]
    },
    {
      "cell_type": "code",
      "source": [
        "def hamming_distance(lhs, rhs):\n",
        "  return len([(x,y) for x,y in zip(lhs, rhs) if x != y])\n",
        "\n",
        "print(hamming_distance(seqA, seqB))"
      ],
      "metadata": {
        "colab": {
          "base_uri": "https://localhost:8080/"
        },
        "id": "ySRZNsnaslre",
        "outputId": "7af99c4a-b30e-4e3b-ee06-676b71e28fec"
      },
      "execution_count": 52,
      "outputs": [
        {
          "output_type": "stream",
          "name": "stdout",
          "text": [
            "30\n"
          ]
        }
      ]
    },
    {
      "cell_type": "code",
      "source": [
        "!pip install python-Levenshtein\n",
        "from Levenshtein import distance\n",
        "\n",
        "distance(str(seqA), str(seqB))"
      ],
      "metadata": {
        "colab": {
          "base_uri": "https://localhost:8080/"
        },
        "id": "_YUwf_-3sroA",
        "outputId": "a8e61900-7e16-42cc-a635-13b17b279a2b"
      },
      "execution_count": 53,
      "outputs": [
        {
          "output_type": "stream",
          "name": "stdout",
          "text": [
            "Looking in indexes: https://pypi.org/simple, https://us-python.pkg.dev/colab-wheels/public/simple/\n",
            "Requirement already satisfied: python-Levenshtein in /usr/local/lib/python3.8/dist-packages (0.20.9)\n",
            "Requirement already satisfied: Levenshtein==0.20.9 in /usr/local/lib/python3.8/dist-packages (from python-Levenshtein) (0.20.9)\n",
            "Requirement already satisfied: rapidfuzz<3.0.0,>=2.3.0 in /usr/local/lib/python3.8/dist-packages (from Levenshtein==0.20.9->python-Levenshtein) (2.13.7)\n"
          ]
        },
        {
          "output_type": "execute_result",
          "data": {
            "text/plain": [
              "9"
            ]
          },
          "metadata": {},
          "execution_count": 53
        }
      ]
    },
    {
      "cell_type": "code",
      "source": [
        "import matplotlib.pyplot as plt\n",
        "import numpy as np\n",
        "\n",
        "def dotplotx(seq1, seq2):\n",
        "  plt.imshow(np.array(makeMatrix(seq1, seq2, 1)))\n",
        "  # on x-axis list all sequences of seq 2\n",
        "  xt = plt.xticks(np.arange(len(list(seq2))), list(seq2))\n",
        "  # on y-axis list all sequences of seq 1\n",
        "  yt = plt.yticks(np.arange(len(list(seq1))), list(seq1))\n",
        "  plt.show()\n",
        "\n",
        "dotplotx(seqA, seqB)"
      ],
      "metadata": {
        "colab": {
          "base_uri": "https://localhost:8080/",
          "height": 266
        },
        "id": "ErYeGKVttHuI",
        "outputId": "6290b3cf-de26-4dec-eba8-8ae011437ecf"
      },
      "execution_count": 54,
      "outputs": [
        {
          "output_type": "display_data",
          "data": {
            "text/plain": [
              "<Figure size 432x288 with 1 Axes>"
            ],
            "image/png": "[encoded data removed]"
          },
          "metadata": {
            "needs_background": "light"
          }
        }
      ]
    }
  ]
}