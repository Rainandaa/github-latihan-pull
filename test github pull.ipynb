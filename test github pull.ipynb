{
 "cells": [
  {
   "cell_type": "code",
   "execution_count": 1,
   "metadata": {},
   "outputs": [
    {
     "name": "stdout",
     "output_type": "stream",
     "text": [
      "ID: AY902309.1\n",
      "Name: AY902309.1\n",
      "Description: AY902309.1 Arabidopsis thaliana CORONA (CNA) gene, complete cds\n",
      "Number of features: 0\n",
      "Seq('TTAGTTATTCATCTGGAGGGGGTAGTAGGGTCATTTGTGAGATTCTGTGATTGT...GAA')\n"
     ]
    }
   ],
   "source": [
    "from Bio import SeqIO\n",
    "\n",
    "for record in SeqIO.parse('./sequence.fasta','fasta'):\n",
    "    print(record)"
   ]
  }
 ],
 "metadata": {
  "kernelspec": {
   "display_name": "base",
   "language": "python",
   "name": "python3"
  },
  "language_info": {
   "codemirror_mode": {
    "name": "ipython",
    "version": 3
   },
   "file_extension": ".py",
   "mimetype": "text/x-python",
   "name": "python",
   "nbconvert_exporter": "python",
   "pygments_lexer": "ipython3",
   "version": "3.11.3"
  },
  "orig_nbformat": 4
 },
 "nbformat": 4,
 "nbformat_minor": 2
}
